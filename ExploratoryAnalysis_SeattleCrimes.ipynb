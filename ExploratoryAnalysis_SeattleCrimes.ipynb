{
 "cells": [
  {
   "cell_type": "markdown",
   "metadata": {},
   "source": [
    "# Analysis of Seattle crime data during the Summer 2014\n",
    "\n",
    "### Loading of the data"
   ]
  },
  {
   "cell_type": "code",
   "execution_count": 59,
   "metadata": {
    "collapsed": false
   },
   "outputs": [],
   "source": [
    "%matplotlib inline\n",
    "\n",
    "import matplotlib\n",
    "import pandas as pd\n",
    "import numpy as np\n",
    "import matplotlib.pyplot as plt\n",
    "import matplotlib.colors as Normalize\n",
    "import matplotlib.cm as cm\n",
    "import folium\n",
    "import branca\n",
    "import branca.colormap as cm\n",
    "from dateutil import parser\n",
    "\n",
    "file = 'seattle_incidents_summer_2014.csv'\n",
    "df = pd.read_csv(file)\n"
   ]
  },
  {
   "cell_type": "code",
   "execution_count": 60,
   "metadata": {
    "collapsed": false
   },
   "outputs": [
    {
     "data": {
      "text/html": [
       "<div>\n",
       "<table border=\"1\" class=\"dataframe\">\n",
       "  <thead>\n",
       "    <tr style=\"text-align: right;\">\n",
       "      <th></th>\n",
       "      <th>RMS CDW ID</th>\n",
       "      <th>General Offense Number</th>\n",
       "      <th>Offense Code</th>\n",
       "      <th>Offense Code Extension</th>\n",
       "      <th>Offense Type</th>\n",
       "      <th>Summary Offense Code</th>\n",
       "      <th>Summarized Offense Description</th>\n",
       "      <th>Date Reported</th>\n",
       "      <th>Occurred Date or Date Range Start</th>\n",
       "      <th>Occurred Date Range End</th>\n",
       "      <th>Hundred Block Location</th>\n",
       "      <th>District/Sector</th>\n",
       "      <th>Zone/Beat</th>\n",
       "      <th>Census Tract 2000</th>\n",
       "      <th>Longitude</th>\n",
       "      <th>Latitude</th>\n",
       "      <th>Location</th>\n",
       "      <th>Month</th>\n",
       "      <th>Year</th>\n",
       "    </tr>\n",
       "  </thead>\n",
       "  <tbody>\n",
       "    <tr>\n",
       "      <th>0</th>\n",
       "      <td>483839</td>\n",
       "      <td>2015218538</td>\n",
       "      <td>2202</td>\n",
       "      <td>0</td>\n",
       "      <td>BURGLARY-FORCE-RES</td>\n",
       "      <td>2200</td>\n",
       "      <td>BURGLARY</td>\n",
       "      <td>06/28/2015 10:31:00 AM</td>\n",
       "      <td>06/28/2014 10:31:00 AM</td>\n",
       "      <td>06/28/2015 10:31:00 AM</td>\n",
       "      <td>6XX BLOCK OF NW 74 ST</td>\n",
       "      <td>J</td>\n",
       "      <td>J2</td>\n",
       "      <td>2900.3013</td>\n",
       "      <td>-122.364672</td>\n",
       "      <td>47.682524</td>\n",
       "      <td>(47.68252427, -122.364671996)</td>\n",
       "      <td>6</td>\n",
       "      <td>2014</td>\n",
       "    </tr>\n",
       "    <tr>\n",
       "      <th>1</th>\n",
       "      <td>481252</td>\n",
       "      <td>2015213067</td>\n",
       "      <td>2610</td>\n",
       "      <td>0</td>\n",
       "      <td>FRAUD-IDENTITY THEFT</td>\n",
       "      <td>2600</td>\n",
       "      <td>FRAUD</td>\n",
       "      <td>06/24/2015 11:09:00 AM</td>\n",
       "      <td>06/01/2014 12:00:00 AM</td>\n",
       "      <td>06/24/2015 11:09:00 AM</td>\n",
       "      <td>23XX BLOCK OF 43 AV E</td>\n",
       "      <td>C</td>\n",
       "      <td>C2</td>\n",
       "      <td>6300.1004</td>\n",
       "      <td>-122.277080</td>\n",
       "      <td>47.639901</td>\n",
       "      <td>(47.639900761, -122.277080248)</td>\n",
       "      <td>6</td>\n",
       "      <td>2014</td>\n",
       "    </tr>\n",
       "    <tr>\n",
       "      <th>2</th>\n",
       "      <td>481375</td>\n",
       "      <td>2015210301</td>\n",
       "      <td>2316</td>\n",
       "      <td>0</td>\n",
       "      <td>THEFT-MAIL</td>\n",
       "      <td>2300</td>\n",
       "      <td>MAIL THEFT</td>\n",
       "      <td>06/22/2015 09:22:00 AM</td>\n",
       "      <td>08/31/2014 09:00:00 AM</td>\n",
       "      <td>NaN</td>\n",
       "      <td>81XX BLOCK OF 11 AV SW</td>\n",
       "      <td>F</td>\n",
       "      <td>F3</td>\n",
       "      <td>11300.5013</td>\n",
       "      <td>-122.349312</td>\n",
       "      <td>47.529232</td>\n",
       "      <td>(47.529232299, -122.349312181)</td>\n",
       "      <td>8</td>\n",
       "      <td>2014</td>\n",
       "    </tr>\n",
       "    <tr>\n",
       "      <th>3</th>\n",
       "      <td>481690</td>\n",
       "      <td>2015209327</td>\n",
       "      <td>2599</td>\n",
       "      <td>0</td>\n",
       "      <td>COUNTERFEIT</td>\n",
       "      <td>2500</td>\n",
       "      <td>COUNTERFEIT</td>\n",
       "      <td>06/21/2015 03:52:00 PM</td>\n",
       "      <td>06/20/2014 01:38:00 PM</td>\n",
       "      <td>NaN</td>\n",
       "      <td>6XX BLOCK OF PINE ST</td>\n",
       "      <td>M</td>\n",
       "      <td>M2</td>\n",
       "      <td>8200.1002</td>\n",
       "      <td>-122.334818</td>\n",
       "      <td>47.612368</td>\n",
       "      <td>(47.612368448, -122.334817763)</td>\n",
       "      <td>6</td>\n",
       "      <td>2014</td>\n",
       "    </tr>\n",
       "    <tr>\n",
       "      <th>4</th>\n",
       "      <td>478198</td>\n",
       "      <td>2015207880</td>\n",
       "      <td>2399</td>\n",
       "      <td>3</td>\n",
       "      <td>THEFT-OTH</td>\n",
       "      <td>2300</td>\n",
       "      <td>OTHER PROPERTY</td>\n",
       "      <td>06/20/2015 11:59:00 AM</td>\n",
       "      <td>06/01/2014 11:59:00 AM</td>\n",
       "      <td>11/01/2014 12:00:00 PM</td>\n",
       "      <td>77XX BLOCK OF SUNNYSIDE AV N</td>\n",
       "      <td>J</td>\n",
       "      <td>J3</td>\n",
       "      <td>2700.2015</td>\n",
       "      <td>-122.329379</td>\n",
       "      <td>47.685960</td>\n",
       "      <td>(47.685959879, -122.329378505)</td>\n",
       "      <td>6</td>\n",
       "      <td>2014</td>\n",
       "    </tr>\n",
       "  </tbody>\n",
       "</table>\n",
       "</div>"
      ],
      "text/plain": [
       "   RMS CDW ID  General Offense Number Offense Code  Offense Code Extension  \\\n",
       "0      483839              2015218538         2202                       0   \n",
       "1      481252              2015213067         2610                       0   \n",
       "2      481375              2015210301         2316                       0   \n",
       "3      481690              2015209327         2599                       0   \n",
       "4      478198              2015207880         2399                       3   \n",
       "\n",
       "           Offense Type Summary Offense Code Summarized Offense Description  \\\n",
       "0    BURGLARY-FORCE-RES                 2200                       BURGLARY   \n",
       "1  FRAUD-IDENTITY THEFT                 2600                          FRAUD   \n",
       "2            THEFT-MAIL                 2300                     MAIL THEFT   \n",
       "3           COUNTERFEIT                 2500                    COUNTERFEIT   \n",
       "4             THEFT-OTH                 2300                 OTHER PROPERTY   \n",
       "\n",
       "            Date Reported Occurred Date or Date Range Start  \\\n",
       "0  06/28/2015 10:31:00 AM            06/28/2014 10:31:00 AM   \n",
       "1  06/24/2015 11:09:00 AM            06/01/2014 12:00:00 AM   \n",
       "2  06/22/2015 09:22:00 AM            08/31/2014 09:00:00 AM   \n",
       "3  06/21/2015 03:52:00 PM            06/20/2014 01:38:00 PM   \n",
       "4  06/20/2015 11:59:00 AM            06/01/2014 11:59:00 AM   \n",
       "\n",
       "  Occurred Date Range End        Hundred Block Location District/Sector  \\\n",
       "0  06/28/2015 10:31:00 AM         6XX BLOCK OF NW 74 ST               J   \n",
       "1  06/24/2015 11:09:00 AM         23XX BLOCK OF 43 AV E               C   \n",
       "2                     NaN        81XX BLOCK OF 11 AV SW               F   \n",
       "3                     NaN          6XX BLOCK OF PINE ST               M   \n",
       "4  11/01/2014 12:00:00 PM  77XX BLOCK OF SUNNYSIDE AV N               J   \n",
       "\n",
       "  Zone/Beat  Census Tract 2000   Longitude   Latitude  \\\n",
       "0        J2          2900.3013 -122.364672  47.682524   \n",
       "1        C2          6300.1004 -122.277080  47.639901   \n",
       "2        F3         11300.5013 -122.349312  47.529232   \n",
       "3        M2          8200.1002 -122.334818  47.612368   \n",
       "4        J3          2700.2015 -122.329379  47.685960   \n",
       "\n",
       "                         Location  Month  Year  \n",
       "0   (47.68252427, -122.364671996)      6  2014  \n",
       "1  (47.639900761, -122.277080248)      6  2014  \n",
       "2  (47.529232299, -122.349312181)      8  2014  \n",
       "3  (47.612368448, -122.334817763)      6  2014  \n",
       "4  (47.685959879, -122.329378505)      6  2014  "
      ]
     },
     "execution_count": 60,
     "metadata": {},
     "output_type": "execute_result"
    }
   ],
   "source": [
    "df.head()"
   ]
  },
  {
   "cell_type": "code",
   "execution_count": 61,
   "metadata": {
    "collapsed": false
   },
   "outputs": [],
   "source": [
    "smaller_list = ['Offense Code', 'Offense Type', 'Summary Offense Code', 'District/Sector',\n",
    "                'Zone/Beat', 'Month', 'Year']\n",
    "\n",
    "# for col in smaller_list:\n",
    "#     print(col, sorted(set(df[col])))"
   ]
  },
  {
   "cell_type": "code",
   "execution_count": 62,
   "metadata": {
    "collapsed": false
   },
   "outputs": [
    {
     "data": {
      "text/plain": [
       "19"
      ]
     },
     "execution_count": 62,
     "metadata": {},
     "output_type": "execute_result"
    }
   ],
   "source": [
    "len(set(df['District/Sector']))"
   ]
  },
  {
   "cell_type": "code",
   "execution_count": 63,
   "metadata": {
    "collapsed": false
   },
   "outputs": [
    {
     "data": {
      "text/plain": [
       "147"
      ]
     },
     "execution_count": 63,
     "metadata": {},
     "output_type": "execute_result"
    }
   ],
   "source": [
    "len(set(df['Offense Type']))"
   ]
  },
  {
   "cell_type": "code",
   "execution_count": 64,
   "metadata": {
    "collapsed": false
   },
   "outputs": [
    {
     "data": {
      "text/plain": [
       "32779"
      ]
     },
     "execution_count": 64,
     "metadata": {},
     "output_type": "execute_result"
    }
   ],
   "source": [
    "np.isfinite(df['General Offense Number']).sum()"
   ]
  },
  {
   "cell_type": "code",
   "execution_count": 65,
   "metadata": {
    "collapsed": false
   },
   "outputs": [
    {
     "data": {
      "text/plain": [
       "(32779, 19)"
      ]
     },
     "execution_count": 65,
     "metadata": {},
     "output_type": "execute_result"
    }
   ],
   "source": [
    "df.shape"
   ]
  },
  {
   "cell_type": "code",
   "execution_count": 66,
   "metadata": {
    "collapsed": false
   },
   "outputs": [
    {
     "data": {
      "text/html": [
       "<div>\n",
       "<table border=\"1\" class=\"dataframe\">\n",
       "  <thead>\n",
       "    <tr style=\"text-align: right;\">\n",
       "      <th></th>\n",
       "      <th>count</th>\n",
       "    </tr>\n",
       "    <tr>\n",
       "      <th>Month</th>\n",
       "      <th></th>\n",
       "    </tr>\n",
       "  </thead>\n",
       "  <tbody>\n",
       "    <tr>\n",
       "      <th>6</th>\n",
       "      <td>11125</td>\n",
       "    </tr>\n",
       "    <tr>\n",
       "      <th>7</th>\n",
       "      <td>11154</td>\n",
       "    </tr>\n",
       "    <tr>\n",
       "      <th>8</th>\n",
       "      <td>10500</td>\n",
       "    </tr>\n",
       "  </tbody>\n",
       "</table>\n",
       "</div>"
      ],
      "text/plain": [
       "       count\n",
       "Month       \n",
       "6      11125\n",
       "7      11154\n",
       "8      10500"
      ]
     },
     "execution_count": 66,
     "metadata": {},
     "output_type": "execute_result"
    }
   ],
   "source": [
    "total_crime_df = df.groupby(['Month'])['General Offense Number'].agg(['count'])\n",
    "total_crime_df"
   ]
  },
  {
   "cell_type": "code",
   "execution_count": 67,
   "metadata": {
    "collapsed": false
   },
   "outputs": [
    {
     "data": {
      "text/plain": [
       "<matplotlib.text.Text at 0x10c95cad0>"
      ]
     },
     "execution_count": 67,
     "metadata": {},
     "output_type": "execute_result"
    },
    {
     "data": {
      "text/plain": [
       "<matplotlib.figure.Figure at 0x10c341f90>"
      ]
     },
     "metadata": {},
     "output_type": "display_data"
    },
    {
     "data": {
      "image/png": "[encoded data removed]",
      "text/plain": [
       "<matplotlib.figure.Figure at 0x10b1838d0>"
      ]
     },
     "metadata": {},
     "output_type": "display_data"
    }
   ],
   "source": [
    "plt.figure(1)\n",
    "total_crime_df.plot(kind='bar', legend=False)\n",
    "plt.ylabel('Number of crimes')\n",
    "plt.xlabel('2014')\n",
    "plt.xticks([0,1,2], ['June', 'July', 'August'], rotation=0)\n",
    "plt.grid(True)\n",
    "plt.title('Total number of crimes in Seattle over the Summer 2014')"
   ]
  },
  {
   "cell_type": "code",
   "execution_count": 68,
   "metadata": {
    "collapsed": false
   },
   "outputs": [
    {
     "data": {
      "text/plain": [
       "3.9018884041612063"
      ]
     },
     "execution_count": 68,
     "metadata": {},
     "output_type": "execute_result"
    }
   ],
   "source": [
    "100.*(total_crime_df.ix[6:8,'count'].mean() - total_crime_df.ix[8,'count'])/total_crime_df.ix[6:8,'count'].mean()"
   ]
  },
  {
   "cell_type": "markdown",
   "metadata": {},
   "source": [
    "Throughout the summer 2014, ~ 11000 crimes have been reported per month. August saw a small decrease of 3.9% compared to the average of June and July."
   ]
  },
  {
   "cell_type": "code",
   "execution_count": 69,
   "metadata": {
    "collapsed": false
   },
   "outputs": [],
   "source": [
    "df['Datetime Occurred'] = pd.to_datetime(df['Occurred Date or Date Range Start'])"
   ]
  },
  {
   "cell_type": "code",
   "execution_count": 70,
   "metadata": {
    "collapsed": false
   },
   "outputs": [
    {
     "data": {
      "text/plain": [
       "0    2014-06-28 10:31:00\n",
       "1    2014-06-01 00:00:00\n",
       "2    2014-08-31 09:00:00\n",
       "3    2014-06-20 13:38:00\n",
       "4    2014-06-01 11:59:00\n",
       "5    2014-06-19 14:45:00\n",
       "6    2014-06-01 00:00:00\n",
       "7    2014-08-22 11:00:00\n",
       "8    2014-08-01 00:00:00\n",
       "9    2014-07-20 12:00:00\n",
       "10   2014-06-19 12:00:00\n",
       "Name: Datetime Occurred, dtype: datetime64[ns]"
      ]
     },
     "execution_count": 70,
     "metadata": {},
     "output_type": "execute_result"
    }
   ],
   "source": [
    "df.ix[0:10,'Datetime Occurred']"
   ]
  },
  {
   "cell_type": "code",
   "execution_count": 71,
   "metadata": {
    "collapsed": false
   },
   "outputs": [],
   "source": [
    "df['Occurred Day'] = df['Datetime Occurred'].dt.weekday_name"
   ]
  },
  {
   "cell_type": "code",
   "execution_count": 72,
   "metadata": {
    "collapsed": false
   },
   "outputs": [
    {
     "data": {
      "text/plain": [
       "0     Saturday\n",
       "1       Sunday\n",
       "2       Sunday\n",
       "3       Friday\n",
       "4       Sunday\n",
       "5     Thursday\n",
       "6       Sunday\n",
       "7       Friday\n",
       "8       Friday\n",
       "9       Sunday\n",
       "10    Thursday\n",
       "Name: Occurred Day, dtype: object"
      ]
     },
     "execution_count": 72,
     "metadata": {},
     "output_type": "execute_result"
    }
   ],
   "source": [
    "df.ix[0:10,'Occurred Day']"
   ]
  },
  {
   "cell_type": "code",
   "execution_count": 73,
   "metadata": {
    "collapsed": true
   },
   "outputs": [],
   "source": [
    "crimes_per_day = df.groupby(['Occurred Day'])['General Offense Number'].agg(['count'])"
   ]
  },
  {
   "cell_type": "code",
   "execution_count": 74,
   "metadata": {
    "collapsed": false
   },
   "outputs": [
    {
     "data": {
      "text/html": [
       "<div>\n",
       "<table border=\"1\" class=\"dataframe\">\n",
       "  <thead>\n",
       "    <tr style=\"text-align: right;\">\n",
       "      <th></th>\n",
       "      <th>count</th>\n",
       "    </tr>\n",
       "    <tr>\n",
       "      <th>Occurred Day</th>\n",
       "      <th></th>\n",
       "    </tr>\n",
       "  </thead>\n",
       "  <tbody>\n",
       "    <tr>\n",
       "      <th>Friday</th>\n",
       "      <td>4960</td>\n",
       "    </tr>\n",
       "    <tr>\n",
       "      <th>Monday</th>\n",
       "      <td>4587</td>\n",
       "    </tr>\n",
       "    <tr>\n",
       "      <th>Saturday</th>\n",
       "      <td>4647</td>\n",
       "    </tr>\n",
       "    <tr>\n",
       "      <th>Sunday</th>\n",
       "      <td>4715</td>\n",
       "    </tr>\n",
       "    <tr>\n",
       "      <th>Thursday</th>\n",
       "      <td>4596</td>\n",
       "    </tr>\n",
       "    <tr>\n",
       "      <th>Tuesday</th>\n",
       "      <td>4612</td>\n",
       "    </tr>\n",
       "    <tr>\n",
       "      <th>Wednesday</th>\n",
       "      <td>4662</td>\n",
       "    </tr>\n",
       "  </tbody>\n",
       "</table>\n",
       "</div>"
      ],
      "text/plain": [
       "              count\n",
       "Occurred Day       \n",
       "Friday         4960\n",
       "Monday         4587\n",
       "Saturday       4647\n",
       "Sunday         4715\n",
       "Thursday       4596\n",
       "Tuesday        4612\n",
       "Wednesday      4662"
      ]
     },
     "execution_count": 74,
     "metadata": {},
     "output_type": "execute_result"
    }
   ],
   "source": [
    "crimes_per_day.head(10)"
   ]
  },
  {
   "cell_type": "code",
   "execution_count": 75,
   "metadata": {
    "collapsed": false
   },
   "outputs": [],
   "source": [
    "crimes_per_day = crimes_per_day.sort_values(by=['count'], ascending=[False])"
   ]
  },
  {
   "cell_type": "code",
   "execution_count": 76,
   "metadata": {
    "collapsed": false
   },
   "outputs": [
    {
     "data": {
      "text/html": [
       "<div>\n",
       "<table border=\"1\" class=\"dataframe\">\n",
       "  <thead>\n",
       "    <tr style=\"text-align: right;\">\n",
       "      <th></th>\n",
       "      <th>count</th>\n",
       "    </tr>\n",
       "    <tr>\n",
       "      <th>Occurred Day</th>\n",
       "      <th></th>\n",
       "    </tr>\n",
       "  </thead>\n",
       "  <tbody>\n",
       "    <tr>\n",
       "      <th>Friday</th>\n",
       "      <td>4960</td>\n",
       "    </tr>\n",
       "    <tr>\n",
       "      <th>Sunday</th>\n",
       "      <td>4715</td>\n",
       "    </tr>\n",
       "    <tr>\n",
       "      <th>Wednesday</th>\n",
       "      <td>4662</td>\n",
       "    </tr>\n",
       "    <tr>\n",
       "      <th>Saturday</th>\n",
       "      <td>4647</td>\n",
       "    </tr>\n",
       "    <tr>\n",
       "      <th>Tuesday</th>\n",
       "      <td>4612</td>\n",
       "    </tr>\n",
       "    <tr>\n",
       "      <th>Thursday</th>\n",
       "      <td>4596</td>\n",
       "    </tr>\n",
       "    <tr>\n",
       "      <th>Monday</th>\n",
       "      <td>4587</td>\n",
       "    </tr>\n",
       "  </tbody>\n",
       "</table>\n",
       "</div>"
      ],
      "text/plain": [
       "              count\n",
       "Occurred Day       \n",
       "Friday         4960\n",
       "Sunday         4715\n",
       "Wednesday      4662\n",
       "Saturday       4647\n",
       "Tuesday        4612\n",
       "Thursday       4596\n",
       "Monday         4587"
      ]
     },
     "execution_count": 76,
     "metadata": {},
     "output_type": "execute_result"
    }
   ],
   "source": [
    "crimes_per_day.head(10)"
   ]
  },
  {
   "cell_type": "code",
   "execution_count": 77,
   "metadata": {
    "collapsed": false
   },
   "outputs": [
    {
     "data": {
      "text/plain": [
       "<matplotlib.text.Text at 0x10b40ad90>"
      ]
     },
     "execution_count": 77,
     "metadata": {},
     "output_type": "execute_result"
    },
    {
     "data": {
      "text/plain": [
       "<matplotlib.figure.Figure at 0x10c966850>"
      ]
     },
     "metadata": {},
     "output_type": "display_data"
    },
    {
     "data": {
      "image/png": "[encoded data removed]",
      "text/plain": [
       "<matplotlib.figure.Figure at 0x10c976f10>"
      ]
     },
     "metadata": {},
     "output_type": "display_data"
    }
   ],
   "source": [
    "plt.figure(2)\n",
    "crimes_per_day.plot(kind='bar', legend=False)\n",
    "plt.ylabel('Number of crimes')\n",
    "plt.xlabel('2014')\n",
    "# plt.xticks([0,1,2], ['June', 'July', 'August'], rotation=0)\n",
    "plt.grid(True)\n",
    "plt.title('Number of crimes per day of week in Seattle over the Summer 2014')"
   ]
  },
  {
   "cell_type": "code",
   "execution_count": 78,
   "metadata": {
    "collapsed": false
   },
   "outputs": [
    {
     "data": {
      "text/plain": [
       "6.9772457672813548"
      ]
     },
     "execution_count": 78,
     "metadata": {},
     "output_type": "execute_result"
    }
   ],
   "source": [
    "100.*(crimes_per_day.ix[0,'count'] - crimes_per_day.ix[1:7,'count'].mean())/crimes_per_day.ix[1:7,'count'].mean()"
   ]
  },
  {
   "cell_type": "markdown",
   "metadata": {},
   "source": [
    "Overall, crimes tend to be uniformly distributed throughout the week. Fridays, however, show higher activity, with ~7% more than crimes than the average over the other days."
   ]
  },
  {
   "cell_type": "code",
   "execution_count": 79,
   "metadata": {
    "collapsed": false
   },
   "outputs": [],
   "source": [
    "df['Occurred Hour'] = df['Datetime Occurred'].dt.hour"
   ]
  },
  {
   "cell_type": "code",
   "execution_count": 80,
   "metadata": {
    "collapsed": false,
    "scrolled": true
   },
   "outputs": [
    {
     "data": {
      "text/plain": [
       "<matplotlib.axes.AxesSubplot at 0x109958fd0>"
      ]
     },
     "execution_count": 80,
     "metadata": {},
     "output_type": "execute_result"
    },
    {
     "data": {
      "image/png": "[encoded data removed]",
      "text/plain": [
       "<matplotlib.figure.Figure at 0x10c38eed0>"
      ]
     },
     "metadata": {},
     "output_type": "display_data"
    }
   ],
   "source": [
    "plt.figure(21)\n",
    "df['Occurred Hour'].plot(kind='hist', bins=range(0,24,1))"
   ]
  },
  {
   "cell_type": "code",
   "execution_count": 81,
   "metadata": {
    "collapsed": false
   },
   "outputs": [
    {
     "name": "stdout",
     "output_type": "stream",
     "text": [
      "   RMS CDW ID  General Offense Number Offense Code  Offense Code Extension  \\\n",
      "0      483839              2015218538         2202                       0   \n",
      "1      481252              2015213067         2610                       0   \n",
      "2      481375              2015210301         2316                       0   \n",
      "3      481690              2015209327         2599                       0   \n",
      "4      478198              2015207880         2399                       3   \n",
      "\n",
      "           Offense Type Summary Offense Code Summarized Offense Description  \\\n",
      "0    BURGLARY-FORCE-RES                 2200                       BURGLARY   \n",
      "1  FRAUD-IDENTITY THEFT                 2600                          FRAUD   \n",
      "2            THEFT-MAIL                 2300                     MAIL THEFT   \n",
      "3           COUNTERFEIT                 2500                    COUNTERFEIT   \n",
      "4             THEFT-OTH                 2300                 OTHER PROPERTY   \n",
      "\n",
      "            Date Reported Occurred Date or Date Range Start  \\\n",
      "0  06/28/2015 10:31:00 AM            06/28/2014 10:31:00 AM   \n",
      "1  06/24/2015 11:09:00 AM            06/01/2014 12:00:00 AM   \n",
      "2  06/22/2015 09:22:00 AM            08/31/2014 09:00:00 AM   \n",
      "3  06/21/2015 03:52:00 PM            06/20/2014 01:38:00 PM   \n",
      "4  06/20/2015 11:59:00 AM            06/01/2014 11:59:00 AM   \n",
      "\n",
      "  Occurred Date Range End    ...     Census Tract 2000   Longitude   Latitude  \\\n",
      "0  06/28/2015 10:31:00 AM    ...             2900.3013 -122.364672  47.682524   \n",
      "1  06/24/2015 11:09:00 AM    ...             6300.1004 -122.277080  47.639901   \n",
      "2                     NaN    ...            11300.5013 -122.349312  47.529232   \n",
      "3                     NaN    ...             8200.1002 -122.334818  47.612368   \n",
      "4  11/01/2014 12:00:00 PM    ...             2700.2015 -122.329379  47.685960   \n",
      "\n",
      "                         Location  Month  Year   Datetime Occurred  \\\n",
      "0   (47.68252427, -122.364671996)      6  2014 2014-06-28 10:31:00   \n",
      "1  (47.639900761, -122.277080248)      6  2014 2014-06-01 00:00:00   \n",
      "2  (47.529232299, -122.349312181)      8  2014 2014-08-31 09:00:00   \n",
      "3  (47.612368448, -122.334817763)      6  2014 2014-06-20 13:38:00   \n",
      "4  (47.685959879, -122.329378505)      6  2014 2014-06-01 11:59:00   \n",
      "\n",
      "   Occurred Day  Occurred Hour     Period  \n",
      "0      Saturday             10    Morning  \n",
      "1        Sunday              0      Night  \n",
      "2        Sunday              9    Morning  \n",
      "3        Friday             13  Afternoon  \n",
      "4        Sunday             11    Morning  \n",
      "\n",
      "[5 rows x 23 columns]\n"
     ]
    }
   ],
   "source": [
    "df.ix[0:5,'Occurred Hour']\n",
    "\n",
    "df['Period'] = np.nan\n",
    "df.ix[((df['Occurred Hour']>=6.) & (df['Occurred Hour']<12.)), 'Period'] = 'Morning'\n",
    "df.ix[((df['Occurred Hour']>=12.) & (df['Occurred Hour']<13.)), 'Period'] = 'Lunch'\n",
    "df.ix[((df['Occurred Hour']>=13.) & (df['Occurred Hour']<19.)), 'Period'] = 'Afternoon'\n",
    "df.ix[((df['Occurred Hour']>=19.) & (df['Occurred Hour']<23.)), 'Period'] = 'Evening'\n",
    "df.ix[((df['Occurred Hour']>=23.) | (df['Occurred Hour']<6.)), 'Period'] = 'Night'\n",
    "print(df.head())\n"
   ]
  },
  {
   "cell_type": "code",
   "execution_count": 82,
   "metadata": {
    "collapsed": false
   },
   "outputs": [
    {
     "name": "stdout",
     "output_type": "stream",
     "text": [
      "Period        Afternoon  Evening  Lunch  Morning  Night\n",
      "Occurred Day                                           \n",
      "Friday             1560     1113    340      927   1020\n",
      "Monday             1435     1001    287     1029    835\n",
      "Saturday           1310     1034    268      764   1271\n",
      "Sunday             1422     1104    275      673   1241\n",
      "Thursday           1454     1066    335      866    875\n"
     ]
    },
    {
     "data": {
      "text/plain": [
       "<matplotlib.text.Text at 0x10c707c10>"
      ]
     },
     "execution_count": 82,
     "metadata": {},
     "output_type": "execute_result"
    },
    {
     "data": {
      "text/plain": [
       "<matplotlib.figure.Figure at 0x10c94f6d0>"
      ]
     },
     "metadata": {},
     "output_type": "display_data"
    },
    {
     "data": {
      "image/png": "[encoded data removed]",
      "text/plain": [
       "<matplotlib.figure.Figure at 0x10c86b750>"
      ]
     },
     "metadata": {},
     "output_type": "display_data"
    }
   ],
   "source": [
    "plt.figure(3)\n",
    "crimes_day_hour = df.groupby(['Occurred Day', 'Period'])['General Offense Number'].count().unstack('Period')\n",
    "print(crimes_day_hour.head())\n",
    "crimes_day_hour.plot(kind='bar', stacked=True).legend(loc='center left', bbox_to_anchor=(1, 0.5))\n",
    "plt.ylabel('Number of crimes')\n",
    "plt.xlabel('Day of week')\n",
    "plt.title('Distribution of crimes per time of week')"
   ]
  },
  {
   "cell_type": "code",
   "execution_count": 83,
   "metadata": {
    "collapsed": false
   },
   "outputs": [
    {
     "data": {
      "text/html": [
       "<div>\n",
       "<table border=\"1\" class=\"dataframe\">\n",
       "  <thead>\n",
       "    <tr style=\"text-align: right;\">\n",
       "      <th>Period</th>\n",
       "      <th>Afternoon</th>\n",
       "      <th>Evening</th>\n",
       "      <th>Lunch</th>\n",
       "      <th>Morning</th>\n",
       "      <th>Night</th>\n",
       "    </tr>\n",
       "    <tr>\n",
       "      <th>Occurred Day</th>\n",
       "      <th></th>\n",
       "      <th></th>\n",
       "      <th></th>\n",
       "      <th></th>\n",
       "      <th></th>\n",
       "    </tr>\n",
       "  </thead>\n",
       "  <tbody>\n",
       "    <tr>\n",
       "      <th>Friday</th>\n",
       "      <td>31.451613</td>\n",
       "      <td>22.439516</td>\n",
       "      <td>6.854839</td>\n",
       "      <td>18.689516</td>\n",
       "      <td>20.564516</td>\n",
       "    </tr>\n",
       "    <tr>\n",
       "      <th>Monday</th>\n",
       "      <td>31.284064</td>\n",
       "      <td>21.822542</td>\n",
       "      <td>6.256813</td>\n",
       "      <td>22.432963</td>\n",
       "      <td>18.203619</td>\n",
       "    </tr>\n",
       "    <tr>\n",
       "      <th>Saturday</th>\n",
       "      <td>28.190230</td>\n",
       "      <td>22.250915</td>\n",
       "      <td>5.767162</td>\n",
       "      <td>16.440714</td>\n",
       "      <td>27.350979</td>\n",
       "    </tr>\n",
       "    <tr>\n",
       "      <th>Sunday</th>\n",
       "      <td>30.159067</td>\n",
       "      <td>23.414634</td>\n",
       "      <td>5.832450</td>\n",
       "      <td>14.273595</td>\n",
       "      <td>26.320255</td>\n",
       "    </tr>\n",
       "    <tr>\n",
       "      <th>Thursday</th>\n",
       "      <td>31.636205</td>\n",
       "      <td>23.194082</td>\n",
       "      <td>7.288947</td>\n",
       "      <td>18.842472</td>\n",
       "      <td>19.038294</td>\n",
       "    </tr>\n",
       "    <tr>\n",
       "      <th>Tuesday</th>\n",
       "      <td>31.916739</td>\n",
       "      <td>23.460538</td>\n",
       "      <td>5.225499</td>\n",
       "      <td>20.988725</td>\n",
       "      <td>18.408500</td>\n",
       "    </tr>\n",
       "    <tr>\n",
       "      <th>Wednesday</th>\n",
       "      <td>31.424281</td>\n",
       "      <td>23.101673</td>\n",
       "      <td>5.877306</td>\n",
       "      <td>21.149721</td>\n",
       "      <td>18.447018</td>\n",
       "    </tr>\n",
       "  </tbody>\n",
       "</table>\n",
       "</div>"
      ],
      "text/plain": [
       "Period        Afternoon    Evening     Lunch    Morning      Night\n",
       "Occurred Day                                                      \n",
       "Friday        31.451613  22.439516  6.854839  18.689516  20.564516\n",
       "Monday        31.284064  21.822542  6.256813  22.432963  18.203619\n",
       "Saturday      28.190230  22.250915  5.767162  16.440714  27.350979\n",
       "Sunday        30.159067  23.414634  5.832450  14.273595  26.320255\n",
       "Thursday      31.636205  23.194082  7.288947  18.842472  19.038294\n",
       "Tuesday       31.916739  23.460538  5.225499  20.988725  18.408500\n",
       "Wednesday     31.424281  23.101673  5.877306  21.149721  18.447018"
      ]
     },
     "execution_count": 83,
     "metadata": {},
     "output_type": "execute_result"
    }
   ],
   "source": [
    "crimes_day_periods_perc=crimes_day_hour.copy()\n",
    "crimes_day_periods_perc = crimes_day_periods_perc.apply(lambda x: x / x.sum() * 100, axis=1)\n",
    "crimes_day_periods_perc"
   ]
  },
  {
   "cell_type": "code",
   "execution_count": 84,
   "metadata": {
    "collapsed": false
   },
   "outputs": [
    {
     "data": {
      "text/plain": [
       "<matplotlib.text.Text at 0x10a036350>"
      ]
     },
     "execution_count": 84,
     "metadata": {},
     "output_type": "execute_result"
    },
    {
     "data": {
      "text/plain": [
       "<matplotlib.figure.Figure at 0x108cee110>"
      ]
     },
     "metadata": {},
     "output_type": "display_data"
    },
    {
     "data": {
      "image/png": "[encoded data removed]",
      "text/plain": [
       "<matplotlib.figure.Figure at 0x10c87c5d0>"
      ]
     },
     "metadata": {},
     "output_type": "display_data"
    }
   ],
   "source": [
    "plt.figure(4)\n",
    "crimes_day_periods_perc.plot(kind='bar', stacked=False).legend(loc='center left', bbox_to_anchor=(1, 0.5))\n",
    "plt.ylabel('Percentage of crimes per hour of day')\n",
    "plt.xlabel('Day of week')\n",
    "plt.title('Distribution of crimes per time of week')"
   ]
  },
  {
   "cell_type": "markdown",
   "metadata": {},
   "source": [
    "Overall, more than 50% of crimes typically happen in the afternoon or evening (i.e. between 13:00 and 23:00). During the weekend, however, afternoon and morning crimes are outnumbered by those occurring at night. While nightly activity is close 18-20% during the week, on Saturdays and Sundays it reaches ~ 28%. Lunch time is usually quiet, with less than 8% of activity."
   ]
  },
  {
   "cell_type": "code",
   "execution_count": 85,
   "metadata": {
    "collapsed": false
   },
   "outputs": [
    {
     "data": {
      "text/plain": [
       "{'ANIMAL-BITE',\n",
       " 'ANIMAL-CRUELTY',\n",
       " 'ANIMAL-OTH',\n",
       " 'ASSLT-AGG-BODYFORCE',\n",
       " 'ASSLT-AGG-GUN',\n",
       " 'ASSLT-AGG-POLICE-BODYFORCE',\n",
       " 'ASSLT-AGG-POLICE-GUN',\n",
       " 'ASSLT-AGG-POLICE-WEAPON',\n",
       " 'ASSLT-AGG-WEAPON',\n",
       " 'ASSLT-NONAGG',\n",
       " 'ASSLT-NONAGG-POLICE',\n",
       " 'BIAS INCIDENT',\n",
       " 'BURGLARY-FORCE-NONRES',\n",
       " 'BURGLARY-FORCE-RES',\n",
       " 'BURGLARY-NOFORCE-NONRES',\n",
       " 'BURGLARY-NOFORCE-RES',\n",
       " 'BURGLARY-SECURE PARKING-NONRES',\n",
       " 'BURGLARY-SECURE PARKING-RES',\n",
       " 'COUNTERFEIT',\n",
       " 'DISORDERLY CONDUCT',\n",
       " 'DISPUTE-CIVIL PROPERTY (AUTO)',\n",
       " 'DISPUTE-CIVIL PROPERTY (NON AU',\n",
       " 'DISPUTE-OTH',\n",
       " 'DISTURBANCE-NOISE',\n",
       " 'DISTURBANCE-OTH',\n",
       " 'DRIVE-BY',\n",
       " 'DUI-DRUGS',\n",
       " 'DUI-LIQUOR',\n",
       " 'ELUDING-FELONY FLIGHT',\n",
       " 'EMBEZZLE',\n",
       " 'ENDANGERMENT',\n",
       " 'ESCAPE',\n",
       " 'FALSE REPORT',\n",
       " 'FIREWORK-POSSESS',\n",
       " 'FIREWORK-USE',\n",
       " 'FORGERY-CHECK',\n",
       " 'FORGERY-CREDIT CARD',\n",
       " 'FORGERY-OTH',\n",
       " 'FRAUD-CHECK',\n",
       " 'FRAUD-COMPUTER',\n",
       " 'FRAUD-CREDIT CARD',\n",
       " 'FRAUD-IDENTITY THEFT',\n",
       " 'FRAUD-OTHER',\n",
       " 'FRAUD-WIRE-ELECTRONIC',\n",
       " 'HARASSMENT',\n",
       " 'HOMICIDE-JUST-GUN',\n",
       " 'HOMICIDE-JUST-WEAPON',\n",
       " 'HOMICIDE-PREMEDITATED-GUN',\n",
       " 'ILLEGAL DUMPING',\n",
       " 'INJURY - ACCIDENTAL',\n",
       " 'INJURY - OTHER',\n",
       " 'LIQUOR LAW VIOLATION',\n",
       " 'MALICIOUS HARASSMENT',\n",
       " 'NARC-DRUG TRAFFIC LOITERING',\n",
       " 'NARC-EQUIPMENT/PARAPHENALIA',\n",
       " 'NARC-FORGERY-PRESCRIPTION',\n",
       " 'NARC-FOUND-AMPHETAMINE',\n",
       " 'NARC-FOUND-COCAINE',\n",
       " 'NARC-FOUND-HEROIN',\n",
       " 'NARC-FOUND-MARIJU',\n",
       " 'NARC-FOUND-METH',\n",
       " 'NARC-FOUND-OPIUM',\n",
       " 'NARC-FOUND-OTHER',\n",
       " 'NARC-FOUND-SYNTHETIC',\n",
       " 'NARC-FRAUD-PRESCRIPTION',\n",
       " 'NARC-POSSESS-AMPHETAMINE',\n",
       " 'NARC-POSSESS-COCAINE',\n",
       " 'NARC-POSSESS-HALLUCINOGEN',\n",
       " 'NARC-POSSESS-HEROIN',\n",
       " 'NARC-POSSESS-MARIJU',\n",
       " 'NARC-POSSESS-METH',\n",
       " 'NARC-POSSESS-OTHER',\n",
       " 'NARC-POSSESS-PILL/TABLET',\n",
       " 'NARC-PRODUCE-MARIJU',\n",
       " 'NARC-SELL-AMPHETAMINE',\n",
       " 'NARC-SELL-COCAINE',\n",
       " 'NARC-SELL-HEROIN',\n",
       " 'NARC-SELL-MARIJU',\n",
       " 'NARC-SELL-METH',\n",
       " 'NARC-SELL-SYNTHETIC',\n",
       " 'NARC-SMUGGLE-OTHER',\n",
       " 'OBSTRUCT',\n",
       " 'PORNOGRAPHY-OBSCENE MATERIAL',\n",
       " 'PROP RECOVERED-OTHER AGENCY',\n",
       " 'PROPERTY DAMAGE - GRAFFITI',\n",
       " 'PROPERTY DAMAGE-NON RESIDENTIA',\n",
       " 'PROPERTY DAMAGE-RESIDENTIAL',\n",
       " 'PROPERTY FOUND',\n",
       " 'PROPERTY LOST',\n",
       " 'PROPERTY LOST - POLICE EQUIPME',\n",
       " 'PROPERTY STOLEN-POSSESS',\n",
       " 'PROPERTY STOLEN-SELL',\n",
       " 'PROPERTY STOLEN-TRAFFICKING',\n",
       " 'PROSTITUTION',\n",
       " 'PROSTITUTION LOITERING',\n",
       " 'PROSTITUTION PATRONIZING',\n",
       " 'PROSTITUTION-ASSIST-PROMOTE',\n",
       " 'RECKLESS BURNING',\n",
       " 'ROBBERY-BANK-BODYFORCE',\n",
       " 'ROBBERY-BANK-GUN',\n",
       " 'ROBBERY-BANK-WEAPON',\n",
       " 'ROBBERY-BUSINESS-BODYFORCE',\n",
       " 'ROBBERY-BUSINESS-GUN',\n",
       " 'ROBBERY-BUSINESS-WEAPON',\n",
       " 'ROBBERY-RESIDENCE-BODYFORCE',\n",
       " 'ROBBERY-RESIDENCE-GUN',\n",
       " 'ROBBERY-RESIDENCE-WEAPON',\n",
       " 'ROBBERY-STREET-BODYFORCE',\n",
       " 'ROBBERY-STREET-GUN',\n",
       " 'ROBBERY-STREET-WEAPON',\n",
       " 'THEFT OF SERVICES',\n",
       " 'THEFT-AUTO PARTS',\n",
       " 'THEFT-AUTOACC',\n",
       " 'THEFT-BICYCLE',\n",
       " 'THEFT-BOAT',\n",
       " 'THEFT-BUILDING',\n",
       " 'THEFT-CARPROWL',\n",
       " 'THEFT-COINOP',\n",
       " 'THEFT-LICENSE PLATE',\n",
       " 'THEFT-MAIL',\n",
       " 'THEFT-OTH',\n",
       " 'THEFT-PKPOCKET',\n",
       " 'THEFT-PRSNATCH',\n",
       " 'THEFT-SHOPLIFT',\n",
       " 'THREATS-KILL',\n",
       " 'THREATS-OTHER',\n",
       " 'THREATS-WEAPON',\n",
       " 'TRAFFIC',\n",
       " 'TRESPASS',\n",
       " 'URINATING/DEFECATING-IN PUBLIC',\n",
       " 'VEH-RCVD-FOR OTHER AGENCY',\n",
       " 'VEH-THEFT-AUTO',\n",
       " 'VEH-THEFT-MTRCYCLE',\n",
       " 'VEH-THEFT-OTHVEH',\n",
       " 'VEH-THEFT-TRAILER',\n",
       " 'VEH-THEFT-TRUCK',\n",
       " 'VIOL-COURT ORDER',\n",
       " 'WARRANT-FUGITIVE',\n",
       " 'WARRARR-FELONY',\n",
       " 'WARRARR-MISDEMEANOR',\n",
       " 'WEAPON-CONCEALED',\n",
       " 'WEAPON-DISCHARGE',\n",
       " 'WEAPON-POSSESSION',\n",
       " 'WEAPON-SELLING',\n",
       " 'WEAPON-SURRENDER-EXCLUDING FIR',\n",
       " 'WEAPON-UNLAWFUL USE',\n",
       " '[INC - CASE DC USE ONLY]'}"
      ]
     },
     "execution_count": 85,
     "metadata": {},
     "output_type": "execute_result"
    }
   ],
   "source": [
    "set(df['Offense Type'])"
   ]
  },
  {
   "cell_type": "code",
   "execution_count": 86,
   "metadata": {
    "collapsed": true
   },
   "outputs": [],
   "source": [
    "df['Shorten offense'] = [x.split('-')[0] for x in df['Offense Type']]"
   ]
  },
  {
   "cell_type": "code",
   "execution_count": 87,
   "metadata": {
    "collapsed": false
   },
   "outputs": [],
   "source": [
    "df['Shorten offense'] = [x.strip() for x in df['Shorten offense']]"
   ]
  },
  {
   "cell_type": "code",
   "execution_count": 88,
   "metadata": {
    "collapsed": false
   },
   "outputs": [
    {
     "data": {
      "text/plain": [
       "{'ANIMAL',\n",
       " 'ASSLT',\n",
       " 'BIAS INCIDENT',\n",
       " 'BURGLARY',\n",
       " 'COUNTERFEIT',\n",
       " 'DISORDERLY CONDUCT',\n",
       " 'DISPUTE',\n",
       " 'DISTURBANCE',\n",
       " 'DRIVE',\n",
       " 'DUI',\n",
       " 'ELUDING',\n",
       " 'EMBEZZLE',\n",
       " 'ENDANGERMENT',\n",
       " 'ESCAPE',\n",
       " 'FALSE REPORT',\n",
       " 'FIREWORK',\n",
       " 'FORGERY',\n",
       " 'FRAUD',\n",
       " 'HARASSMENT',\n",
       " 'HOMICIDE',\n",
       " 'ILLEGAL DUMPING',\n",
       " 'INJURY',\n",
       " 'LIQUOR LAW VIOLATION',\n",
       " 'MALICIOUS HARASSMENT',\n",
       " 'NARC',\n",
       " 'OBSTRUCT',\n",
       " 'PORNOGRAPHY',\n",
       " 'PROP RECOVERED',\n",
       " 'PROPERTY DAMAGE',\n",
       " 'PROPERTY FOUND',\n",
       " 'PROPERTY LOST',\n",
       " 'PROPERTY STOLEN',\n",
       " 'PROSTITUTION',\n",
       " 'PROSTITUTION LOITERING',\n",
       " 'PROSTITUTION PATRONIZING',\n",
       " 'RECKLESS BURNING',\n",
       " 'ROBBERY',\n",
       " 'THEFT',\n",
       " 'THEFT OF SERVICES',\n",
       " 'THREATS',\n",
       " 'TRAFFIC',\n",
       " 'TRESPASS',\n",
       " 'URINATING/DEFECATING',\n",
       " 'VEH',\n",
       " 'VIOL',\n",
       " 'WARRANT',\n",
       " 'WARRARR',\n",
       " 'WEAPON',\n",
       " '[INC'}"
      ]
     },
     "execution_count": 88,
     "metadata": {},
     "output_type": "execute_result"
    }
   ],
   "source": [
    "set(df['Shorten offense'])"
   ]
  },
  {
   "cell_type": "code",
   "execution_count": 89,
   "metadata": {
    "collapsed": false
   },
   "outputs": [],
   "source": [
    "df.ix[df['Shorten offense'] == 'PROSTITUTION LOITERING','Shorten offense'] = 'PROSTITUTION'\n",
    "df.ix[df['Shorten offense'] == 'PROSTITUTION PATRONIZING','Shorten offense'] = 'PROSTITUTION'\n",
    "df.ix[df['Shorten offense'] == 'VIOL','Shorten offense'] = 'VIOLENCE'\n",
    "df.ix[df['Shorten offense'] == 'VEH','Shorten offense'] = 'VEH. THEFT'\n",
    "df.ix[df['Shorten offense'] == 'DRIVE','Shorten offense'] = 'DRIVE-BY'\n",
    "df.ix[df['Shorten offense'] == '[INC','Shorten offense'] = '[INC - CASE DC USE ONLY]'"
   ]
  },
  {
   "cell_type": "code",
   "execution_count": 90,
   "metadata": {
    "collapsed": false
   },
   "outputs": [
    {
     "data": {
      "text/plain": [
       "{'ANIMAL',\n",
       " 'ASSLT',\n",
       " 'BIAS INCIDENT',\n",
       " 'BURGLARY',\n",
       " 'COUNTERFEIT',\n",
       " 'DISORDERLY CONDUCT',\n",
       " 'DISPUTE',\n",
       " 'DISTURBANCE',\n",
       " 'DRIVE-BY',\n",
       " 'DUI',\n",
       " 'ELUDING',\n",
       " 'EMBEZZLE',\n",
       " 'ENDANGERMENT',\n",
       " 'ESCAPE',\n",
       " 'FALSE REPORT',\n",
       " 'FIREWORK',\n",
       " 'FORGERY',\n",
       " 'FRAUD',\n",
       " 'HARASSMENT',\n",
       " 'HOMICIDE',\n",
       " 'ILLEGAL DUMPING',\n",
       " 'INJURY',\n",
       " 'LIQUOR LAW VIOLATION',\n",
       " 'MALICIOUS HARASSMENT',\n",
       " 'NARC',\n",
       " 'OBSTRUCT',\n",
       " 'PORNOGRAPHY',\n",
       " 'PROP RECOVERED',\n",
       " 'PROPERTY DAMAGE',\n",
       " 'PROPERTY FOUND',\n",
       " 'PROPERTY LOST',\n",
       " 'PROPERTY STOLEN',\n",
       " 'PROSTITUTION',\n",
       " 'RECKLESS BURNING',\n",
       " 'ROBBERY',\n",
       " 'THEFT',\n",
       " 'THEFT OF SERVICES',\n",
       " 'THREATS',\n",
       " 'TRAFFIC',\n",
       " 'TRESPASS',\n",
       " 'URINATING/DEFECATING',\n",
       " 'VEH. THEFT',\n",
       " 'VIOLENCE',\n",
       " 'WARRANT',\n",
       " 'WARRARR',\n",
       " 'WEAPON',\n",
       " '[INC - CASE DC USE ONLY]'}"
      ]
     },
     "execution_count": 90,
     "metadata": {},
     "output_type": "execute_result"
    }
   ],
   "source": [
    "set(df['Shorten offense'])"
   ]
  },
  {
   "cell_type": "code",
   "execution_count": 91,
   "metadata": {
    "collapsed": false
   },
   "outputs": [
    {
     "data": {
      "text/plain": [
       "47"
      ]
     },
     "execution_count": 91,
     "metadata": {},
     "output_type": "execute_result"
    }
   ],
   "source": [
    "len(set(df['Shorten offense']))"
   ]
  },
  {
   "cell_type": "code",
   "execution_count": 92,
   "metadata": {
    "collapsed": false
   },
   "outputs": [
    {
     "data": {
      "text/plain": [
       "<matplotlib.axes.AxesSubplot at 0x109ddef10>"
      ]
     },
     "execution_count": 92,
     "metadata": {},
     "output_type": "execute_result"
    },
    {
     "data": {
      "image/png": "[encoded data removed]",
      "text/plain": [
       "<matplotlib.figure.Figure at 0x10c810610>"
      ]
     },
     "metadata": {},
     "output_type": "display_data"
    }
   ],
   "source": [
    "plt.figure(22)\n",
    "thefts_hist = df[df['Shorten offense']=='THEFT']\n",
    "df['Occurred Hour'].plot(kind='hist', bins=range(0,24,1),alpha=0.5)\n",
    "thefts_hist['Occurred Hour'].plot(kind='hist', bins=range(0,24,1),alpha=0.5, color='green')"
   ]
  },
  {
   "cell_type": "markdown",
   "metadata": {},
   "source": [
    "As seen below, thefts drive overall crime trends. A peak in activity is visible during the night, between 23:00 and  01:00, i.e. when most people are asleep or are ready to go to bed. Cumulatively, though, most of the thefts happen in the afternoon, between 13:00 and 19:00."
   ]
  },
  {
   "cell_type": "code",
   "execution_count": 93,
   "metadata": {
    "collapsed": false
   },
   "outputs": [
    {
     "data": {
      "text/plain": [
       "pandas.core.frame.DataFrame"
      ]
     },
     "execution_count": 93,
     "metadata": {},
     "output_type": "execute_result"
    }
   ],
   "source": [
    "crimes_type = pd.DataFrame(df.groupby(['Shorten offense'])['General Offense Number'].count())\n",
    "crimes_type.columns = ['count']\n",
    "crimes_type = crimes_type.sort_values(by=['count'], ascending=[False])\n",
    "type(crimes_type)"
   ]
  },
  {
   "cell_type": "code",
   "execution_count": 94,
   "metadata": {
    "collapsed": false
   },
   "outputs": [
    {
     "data": {
      "text/plain": [
       "<matplotlib.text.Text at 0x10bd3d450>"
      ]
     },
     "execution_count": 94,
     "metadata": {},
     "output_type": "execute_result"
    },
    {
     "data": {
      "text/plain": [
       "<matplotlib.figure.Figure at 0x10982c250>"
      ]
     },
     "metadata": {},
     "output_type": "display_data"
    },
    {
     "data": {
      "image/png": "[encoded data removed]",
      "text/plain": [
       "<matplotlib.figure.Figure at 0x109dc9ed0>"
      ]
     },
     "metadata": {},
     "output_type": "display_data"
    }
   ],
   "source": [
    "plt.figure(5)\n",
    "plt.rcParams[\"figure.figsize\"] = [12,6]\n",
    "crimes_type.plot(kind='bar')\n",
    "plt.ylabel('Number of crimes')\n",
    "plt.xlabel('Crime Type')\n",
    "plt.title('Distribution of crime types')"
   ]
  },
  {
   "cell_type": "code",
   "execution_count": 95,
   "metadata": {
    "collapsed": false
   },
   "outputs": [
    {
     "name": "stdout",
     "output_type": "stream",
     "text": [
      "count    37.099973\n",
      "dtype: float64\n",
      "count    10.982641\n",
      "dtype: float64\n",
      "count    9.277281\n",
      "dtype: float64\n",
      "count    7.214985\n",
      "dtype: float64\n",
      "count    6.089264\n",
      "dtype: float64\n"
     ]
    }
   ],
   "source": [
    "print(100.*crimes_type.ix['THEFT']/crimes_type.sum())\n",
    "print(100.*crimes_type.ix['BURGLARY']/crimes_type.sum())\n",
    "print(100.*crimes_type.ix['VEH. THEFT']/crimes_type.sum())\n",
    "print(100.*crimes_type.ix['PROPERTY DAMAGE']/crimes_type.sum())\n",
    "print(100.*crimes_type.ix['ASSLT']/crimes_type.sum())"
   ]
  },
  {
   "cell_type": "markdown",
   "metadata": {},
   "source": [
    "Theft is by far the type of crime that occurs the most. They represent 37% of all the crimes committed during the summer 2014. They are followed by buglaries (11%), vehicle theft (9%), property damage (7%) and assault (6%)."
   ]
  },
  {
   "cell_type": "code",
   "execution_count": 96,
   "metadata": {
    "collapsed": false
   },
   "outputs": [
    {
     "data": {
      "text/html": [
       "<div>\n",
       "<table border=\"1\" class=\"dataframe\">\n",
       "  <thead>\n",
       "    <tr style=\"text-align: right;\">\n",
       "      <th>Period</th>\n",
       "      <th>Afternoon</th>\n",
       "      <th>Evening</th>\n",
       "      <th>Lunch</th>\n",
       "      <th>Morning</th>\n",
       "      <th>Night</th>\n",
       "    </tr>\n",
       "    <tr>\n",
       "      <th>Occurred Day</th>\n",
       "      <th></th>\n",
       "      <th></th>\n",
       "      <th></th>\n",
       "      <th></th>\n",
       "      <th></th>\n",
       "    </tr>\n",
       "  </thead>\n",
       "  <tbody>\n",
       "    <tr>\n",
       "      <th>Friday</th>\n",
       "      <td>601</td>\n",
       "      <td>448</td>\n",
       "      <td>105</td>\n",
       "      <td>328</td>\n",
       "      <td>374</td>\n",
       "    </tr>\n",
       "    <tr>\n",
       "      <th>Monday</th>\n",
       "      <td>502</td>\n",
       "      <td>381</td>\n",
       "      <td>87</td>\n",
       "      <td>351</td>\n",
       "      <td>313</td>\n",
       "    </tr>\n",
       "    <tr>\n",
       "      <th>Saturday</th>\n",
       "      <td>605</td>\n",
       "      <td>405</td>\n",
       "      <td>106</td>\n",
       "      <td>287</td>\n",
       "      <td>431</td>\n",
       "    </tr>\n",
       "    <tr>\n",
       "      <th>Sunday</th>\n",
       "      <td>583</td>\n",
       "      <td>391</td>\n",
       "      <td>97</td>\n",
       "      <td>250</td>\n",
       "      <td>507</td>\n",
       "    </tr>\n",
       "    <tr>\n",
       "      <th>Thursday</th>\n",
       "      <td>554</td>\n",
       "      <td>418</td>\n",
       "      <td>104</td>\n",
       "      <td>284</td>\n",
       "      <td>333</td>\n",
       "    </tr>\n",
       "    <tr>\n",
       "      <th>Tuesday</th>\n",
       "      <td>501</td>\n",
       "      <td>390</td>\n",
       "      <td>86</td>\n",
       "      <td>321</td>\n",
       "      <td>322</td>\n",
       "    </tr>\n",
       "    <tr>\n",
       "      <th>Wednesday</th>\n",
       "      <td>518</td>\n",
       "      <td>430</td>\n",
       "      <td>98</td>\n",
       "      <td>347</td>\n",
       "      <td>303</td>\n",
       "    </tr>\n",
       "  </tbody>\n",
       "</table>\n",
       "</div>"
      ],
      "text/plain": [
       "Period        Afternoon  Evening  Lunch  Morning  Night\n",
       "Occurred Day                                           \n",
       "Friday              601      448    105      328    374\n",
       "Monday              502      381     87      351    313\n",
       "Saturday            605      405    106      287    431\n",
       "Sunday              583      391     97      250    507\n",
       "Thursday            554      418    104      284    333\n",
       "Tuesday             501      390     86      321    322\n",
       "Wednesday           518      430     98      347    303"
      ]
     },
     "execution_count": 96,
     "metadata": {},
     "output_type": "execute_result"
    }
   ],
   "source": [
    "theft_day_period = df[df['Shorten offense'] == 'THEFT'].groupby(['Occurred Day', 'Period'])['General Offense Number'].count().unstack('Period')\n",
    "theft_day_period"
   ]
  },
  {
   "cell_type": "code",
   "execution_count": 97,
   "metadata": {
    "collapsed": false
   },
   "outputs": [
    {
     "data": {
      "text/html": [
       "<div>\n",
       "<table border=\"1\" class=\"dataframe\">\n",
       "  <thead>\n",
       "    <tr style=\"text-align: right;\">\n",
       "      <th>Period</th>\n",
       "      <th>Afternoon</th>\n",
       "      <th>Evening</th>\n",
       "      <th>Lunch</th>\n",
       "      <th>Morning</th>\n",
       "      <th>Night</th>\n",
       "    </tr>\n",
       "    <tr>\n",
       "      <th>Occurred Day</th>\n",
       "      <th></th>\n",
       "      <th></th>\n",
       "      <th></th>\n",
       "      <th></th>\n",
       "      <th></th>\n",
       "    </tr>\n",
       "  </thead>\n",
       "  <tbody>\n",
       "    <tr>\n",
       "      <th>Friday</th>\n",
       "      <td>32.381466</td>\n",
       "      <td>24.137931</td>\n",
       "      <td>5.657328</td>\n",
       "      <td>17.672414</td>\n",
       "      <td>20.150862</td>\n",
       "    </tr>\n",
       "    <tr>\n",
       "      <th>Monday</th>\n",
       "      <td>30.722154</td>\n",
       "      <td>23.317013</td>\n",
       "      <td>5.324357</td>\n",
       "      <td>21.481028</td>\n",
       "      <td>19.155447</td>\n",
       "    </tr>\n",
       "    <tr>\n",
       "      <th>Saturday</th>\n",
       "      <td>32.988004</td>\n",
       "      <td>22.082879</td>\n",
       "      <td>5.779716</td>\n",
       "      <td>15.648855</td>\n",
       "      <td>23.500545</td>\n",
       "    </tr>\n",
       "    <tr>\n",
       "      <th>Sunday</th>\n",
       "      <td>31.892779</td>\n",
       "      <td>21.389497</td>\n",
       "      <td>5.306346</td>\n",
       "      <td>13.676149</td>\n",
       "      <td>27.735230</td>\n",
       "    </tr>\n",
       "    <tr>\n",
       "      <th>Thursday</th>\n",
       "      <td>32.722977</td>\n",
       "      <td>24.689900</td>\n",
       "      <td>6.142942</td>\n",
       "      <td>16.774956</td>\n",
       "      <td>19.669226</td>\n",
       "    </tr>\n",
       "    <tr>\n",
       "      <th>Tuesday</th>\n",
       "      <td>30.925926</td>\n",
       "      <td>24.074074</td>\n",
       "      <td>5.308642</td>\n",
       "      <td>19.814815</td>\n",
       "      <td>19.876543</td>\n",
       "    </tr>\n",
       "    <tr>\n",
       "      <th>Wednesday</th>\n",
       "      <td>30.542453</td>\n",
       "      <td>25.353774</td>\n",
       "      <td>5.778302</td>\n",
       "      <td>20.459906</td>\n",
       "      <td>17.865566</td>\n",
       "    </tr>\n",
       "  </tbody>\n",
       "</table>\n",
       "</div>"
      ],
      "text/plain": [
       "Period        Afternoon    Evening     Lunch    Morning      Night\n",
       "Occurred Day                                                      \n",
       "Friday        32.381466  24.137931  5.657328  17.672414  20.150862\n",
       "Monday        30.722154  23.317013  5.324357  21.481028  19.155447\n",
       "Saturday      32.988004  22.082879  5.779716  15.648855  23.500545\n",
       "Sunday        31.892779  21.389497  5.306346  13.676149  27.735230\n",
       "Thursday      32.722977  24.689900  6.142942  16.774956  19.669226\n",
       "Tuesday       30.925926  24.074074  5.308642  19.814815  19.876543\n",
       "Wednesday     30.542453  25.353774  5.778302  20.459906  17.865566"
      ]
     },
     "execution_count": 97,
     "metadata": {},
     "output_type": "execute_result"
    }
   ],
   "source": [
    "theft_day_period_perc=theft_day_period.copy()\n",
    "theft_day_period_perc = theft_day_period_perc.apply(lambda x: x / x.sum() * 100, axis=1)\n",
    "theft_day_period_perc"
   ]
  },
  {
   "cell_type": "code",
   "execution_count": 98,
   "metadata": {
    "collapsed": false
   },
   "outputs": [
    {
     "name": "stdout",
     "output_type": "stream",
     "text": [
      "Period        Afternoon    Evening     Lunch    Morning      Night\n",
      "Occurred Day                                                      \n",
      "Sunday        31.892779  21.389497  5.306346  13.676149  27.735230\n",
      "Saturday      32.988004  22.082879  5.779716  15.648855  23.500545\n",
      "Friday        32.381466  24.137931  5.657328  17.672414  20.150862\n",
      "Tuesday       30.925926  24.074074  5.308642  19.814815  19.876543\n",
      "Thursday      32.722977  24.689900  6.142942  16.774956  19.669226\n",
      "Monday        30.722154  23.317013  5.324357  21.481028  19.155447\n",
      "Wednesday     30.542453  25.353774  5.778302  20.459906  17.865566\n"
     ]
    },
    {
     "data": {
      "text/plain": [
       "<matplotlib.text.Text at 0x109f05590>"
      ]
     },
     "execution_count": 98,
     "metadata": {},
     "output_type": "execute_result"
    },
    {
     "data": {
      "text/plain": [
       "<matplotlib.figure.Figure at 0x109dcce10>"
      ]
     },
     "metadata": {},
     "output_type": "display_data"
    },
    {
     "data": {
      "image/png": "[encoded data removed]",
      "text/plain": [
       "<matplotlib.figure.Figure at 0x109db6190>"
      ]
     },
     "metadata": {},
     "output_type": "display_data"
    },
    {
     "data": {
      "image/png": "[encoded data removed]",
      "text/plain": [
       "<matplotlib.figure.Figure at 0x109eef090>"
      ]
     },
     "metadata": {},
     "output_type": "display_data"
    },
    {
     "data": {
      "text/plain": [
       "<matplotlib.figure.Figure at 0x10adac850>"
      ]
     },
     "metadata": {},
     "output_type": "display_data"
    }
   ],
   "source": [
    "plt.figure(51)\n",
    "theft_day_period= theft_day_period_perc.sort_values(by=['Evening'], ascending=[False])\n",
    "# print(theft_day_period)\n",
    "\n",
    "theft_day_period.plot(kind='bar', stacked=False).legend(loc='center left', bbox_to_anchor=(1, 0.5))\n",
    "plt.ylabel('Total number of thefts per hour of day')\n",
    "plt.xlabel('Day of week')\n",
    "plt.title('Distribution of thefts per time of week')\n",
    "\n",
    "plt.figure(6)\n",
    "theft_day_period_perc= theft_day_period_perc.sort_values(by=['Night'], ascending=[False])\n",
    "print(theft_day_period_perc)\n",
    "\n",
    "theft_day_period_perc.plot(kind='bar', stacked=False).legend(loc='center left', bbox_to_anchor=(1, 0.5))\n",
    "plt.ylabel('Percentage of thefts per hour of day')\n",
    "plt.xlabel('Day of week')\n",
    "plt.title('Distribution of thefts per time of week')"
   ]
  },
  {
   "cell_type": "markdown",
   "metadata": {},
   "source": [
    "As thefts represent the majority of crimes, the overall trends observed previously are similar to (because mainly driven by) those detected for thefts.\n",
    "Most thefts occur in the afternoon, i.e. between 13:00 and 19:00 (as seen above). In aggregate, the number of afternoon events does not depend on the day of the week. This is also true for evening events (between 19:00 and 23:00). However, more thefts occur on weekend nights than on week nights, presumably because more people go out and are potential \"preys\". The rest of the study below focuses on trends observed at night (i.e. between 23:00 and 06:00, but mainly between 23:00 and 01:00).\n"
   ]
  },
  {
   "cell_type": "markdown",
   "metadata": {},
   "source": [
    "Location of thefts per day -- to see if changes are visible during the weekend"
   ]
  },
  {
   "cell_type": "code",
   "execution_count": 99,
   "metadata": {
    "collapsed": false
   },
   "outputs": [],
   "source": [
    "nightly_thefts = pd.DataFrame(df[(df['Shorten offense'] == 'THEFT') & (df['Period'] == 'Night')].groupby(['Occurred Day', 'District/Sector'])['General Offense Number'].count().unstack('District/Sector'))"
   ]
  },
  {
   "cell_type": "code",
   "execution_count": 100,
   "metadata": {
    "collapsed": false
   },
   "outputs": [
    {
     "data": {
      "text/html": [
       "<div>\n",
       "<table border=\"1\" class=\"dataframe\">\n",
       "  <thead>\n",
       "    <tr style=\"text-align: right;\">\n",
       "      <th>District/Sector</th>\n",
       "      <th>99</th>\n",
       "      <th>B</th>\n",
       "      <th>C</th>\n",
       "      <th>D</th>\n",
       "      <th>E</th>\n",
       "      <th>F</th>\n",
       "      <th>G</th>\n",
       "      <th>J</th>\n",
       "      <th>K</th>\n",
       "      <th>L</th>\n",
       "      <th>M</th>\n",
       "      <th>N</th>\n",
       "      <th>O</th>\n",
       "      <th>Q</th>\n",
       "      <th>R</th>\n",
       "      <th>S</th>\n",
       "      <th>U</th>\n",
       "      <th>W</th>\n",
       "    </tr>\n",
       "    <tr>\n",
       "      <th>Occurred Day</th>\n",
       "      <th></th>\n",
       "      <th></th>\n",
       "      <th></th>\n",
       "      <th></th>\n",
       "      <th></th>\n",
       "      <th></th>\n",
       "      <th></th>\n",
       "      <th></th>\n",
       "      <th></th>\n",
       "      <th></th>\n",
       "      <th></th>\n",
       "      <th></th>\n",
       "      <th></th>\n",
       "      <th></th>\n",
       "      <th></th>\n",
       "      <th></th>\n",
       "      <th></th>\n",
       "      <th></th>\n",
       "    </tr>\n",
       "  </thead>\n",
       "  <tbody>\n",
       "    <tr>\n",
       "      <th>Friday</th>\n",
       "      <td>2.0</td>\n",
       "      <td>25.0</td>\n",
       "      <td>30.0</td>\n",
       "      <td>23.0</td>\n",
       "      <td>66.0</td>\n",
       "      <td>14.0</td>\n",
       "      <td>17.0</td>\n",
       "      <td>23.0</td>\n",
       "      <td>24.0</td>\n",
       "      <td>17.0</td>\n",
       "      <td>17.0</td>\n",
       "      <td>21.0</td>\n",
       "      <td>4.0</td>\n",
       "      <td>24.0</td>\n",
       "      <td>19.0</td>\n",
       "      <td>5.0</td>\n",
       "      <td>35.0</td>\n",
       "      <td>8.0</td>\n",
       "    </tr>\n",
       "    <tr>\n",
       "      <th>Monday</th>\n",
       "      <td>NaN</td>\n",
       "      <td>31.0</td>\n",
       "      <td>24.0</td>\n",
       "      <td>30.0</td>\n",
       "      <td>32.0</td>\n",
       "      <td>12.0</td>\n",
       "      <td>12.0</td>\n",
       "      <td>27.0</td>\n",
       "      <td>12.0</td>\n",
       "      <td>25.0</td>\n",
       "      <td>16.0</td>\n",
       "      <td>9.0</td>\n",
       "      <td>5.0</td>\n",
       "      <td>14.0</td>\n",
       "      <td>26.0</td>\n",
       "      <td>10.0</td>\n",
       "      <td>16.0</td>\n",
       "      <td>12.0</td>\n",
       "    </tr>\n",
       "    <tr>\n",
       "      <th>Saturday</th>\n",
       "      <td>NaN</td>\n",
       "      <td>35.0</td>\n",
       "      <td>34.0</td>\n",
       "      <td>28.0</td>\n",
       "      <td>76.0</td>\n",
       "      <td>21.0</td>\n",
       "      <td>9.0</td>\n",
       "      <td>27.0</td>\n",
       "      <td>19.0</td>\n",
       "      <td>16.0</td>\n",
       "      <td>25.0</td>\n",
       "      <td>29.0</td>\n",
       "      <td>17.0</td>\n",
       "      <td>35.0</td>\n",
       "      <td>15.0</td>\n",
       "      <td>12.0</td>\n",
       "      <td>22.0</td>\n",
       "      <td>11.0</td>\n",
       "    </tr>\n",
       "    <tr>\n",
       "      <th>Sunday</th>\n",
       "      <td>2.0</td>\n",
       "      <td>27.0</td>\n",
       "      <td>40.0</td>\n",
       "      <td>36.0</td>\n",
       "      <td>92.0</td>\n",
       "      <td>26.0</td>\n",
       "      <td>7.0</td>\n",
       "      <td>20.0</td>\n",
       "      <td>27.0</td>\n",
       "      <td>26.0</td>\n",
       "      <td>49.0</td>\n",
       "      <td>23.0</td>\n",
       "      <td>11.0</td>\n",
       "      <td>38.0</td>\n",
       "      <td>21.0</td>\n",
       "      <td>8.0</td>\n",
       "      <td>46.0</td>\n",
       "      <td>8.0</td>\n",
       "    </tr>\n",
       "    <tr>\n",
       "      <th>Thursday</th>\n",
       "      <td>NaN</td>\n",
       "      <td>28.0</td>\n",
       "      <td>18.0</td>\n",
       "      <td>25.0</td>\n",
       "      <td>29.0</td>\n",
       "      <td>15.0</td>\n",
       "      <td>13.0</td>\n",
       "      <td>24.0</td>\n",
       "      <td>18.0</td>\n",
       "      <td>21.0</td>\n",
       "      <td>23.0</td>\n",
       "      <td>12.0</td>\n",
       "      <td>10.0</td>\n",
       "      <td>29.0</td>\n",
       "      <td>14.0</td>\n",
       "      <td>20.0</td>\n",
       "      <td>30.0</td>\n",
       "      <td>3.0</td>\n",
       "    </tr>\n",
       "    <tr>\n",
       "      <th>Tuesday</th>\n",
       "      <td>NaN</td>\n",
       "      <td>37.0</td>\n",
       "      <td>6.0</td>\n",
       "      <td>28.0</td>\n",
       "      <td>22.0</td>\n",
       "      <td>19.0</td>\n",
       "      <td>9.0</td>\n",
       "      <td>25.0</td>\n",
       "      <td>11.0</td>\n",
       "      <td>10.0</td>\n",
       "      <td>27.0</td>\n",
       "      <td>19.0</td>\n",
       "      <td>11.0</td>\n",
       "      <td>29.0</td>\n",
       "      <td>15.0</td>\n",
       "      <td>18.0</td>\n",
       "      <td>17.0</td>\n",
       "      <td>19.0</td>\n",
       "    </tr>\n",
       "    <tr>\n",
       "      <th>Wednesday</th>\n",
       "      <td>NaN</td>\n",
       "      <td>26.0</td>\n",
       "      <td>18.0</td>\n",
       "      <td>25.0</td>\n",
       "      <td>16.0</td>\n",
       "      <td>13.0</td>\n",
       "      <td>6.0</td>\n",
       "      <td>32.0</td>\n",
       "      <td>17.0</td>\n",
       "      <td>18.0</td>\n",
       "      <td>24.0</td>\n",
       "      <td>23.0</td>\n",
       "      <td>7.0</td>\n",
       "      <td>16.0</td>\n",
       "      <td>13.0</td>\n",
       "      <td>15.0</td>\n",
       "      <td>29.0</td>\n",
       "      <td>5.0</td>\n",
       "    </tr>\n",
       "  </tbody>\n",
       "</table>\n",
       "</div>"
      ],
      "text/plain": [
       "District/Sector   99     B     C     D     E     F     G     J     K     L  \\\n",
       "Occurred Day                                                                 \n",
       "Friday           2.0  25.0  30.0  23.0  66.0  14.0  17.0  23.0  24.0  17.0   \n",
       "Monday           NaN  31.0  24.0  30.0  32.0  12.0  12.0  27.0  12.0  25.0   \n",
       "Saturday         NaN  35.0  34.0  28.0  76.0  21.0   9.0  27.0  19.0  16.0   \n",
       "Sunday           2.0  27.0  40.0  36.0  92.0  26.0   7.0  20.0  27.0  26.0   \n",
       "Thursday         NaN  28.0  18.0  25.0  29.0  15.0  13.0  24.0  18.0  21.0   \n",
       "Tuesday          NaN  37.0   6.0  28.0  22.0  19.0   9.0  25.0  11.0  10.0   \n",
       "Wednesday        NaN  26.0  18.0  25.0  16.0  13.0   6.0  32.0  17.0  18.0   \n",
       "\n",
       "District/Sector     M     N     O     Q     R     S     U     W  \n",
       "Occurred Day                                                     \n",
       "Friday           17.0  21.0   4.0  24.0  19.0   5.0  35.0   8.0  \n",
       "Monday           16.0   9.0   5.0  14.0  26.0  10.0  16.0  12.0  \n",
       "Saturday         25.0  29.0  17.0  35.0  15.0  12.0  22.0  11.0  \n",
       "Sunday           49.0  23.0  11.0  38.0  21.0   8.0  46.0   8.0  \n",
       "Thursday         23.0  12.0  10.0  29.0  14.0  20.0  30.0   3.0  \n",
       "Tuesday          27.0  19.0  11.0  29.0  15.0  18.0  17.0  19.0  \n",
       "Wednesday        24.0  23.0   7.0  16.0  13.0  15.0  29.0   5.0  "
      ]
     },
     "execution_count": 100,
     "metadata": {},
     "output_type": "execute_result"
    }
   ],
   "source": [
    "len(set(df['District/Sector']))\n",
    "nightly_thefts"
   ]
  },
  {
   "cell_type": "code",
   "execution_count": 101,
   "metadata": {
    "collapsed": false
   },
   "outputs": [
    {
     "name": "stdout",
     "output_type": "stream",
     "text": [
      "District/Sector        99          B         C         D          E         F  \\\n",
      "Occurred Day                                                                    \n",
      "Monday                NaN   9.904153  7.667732  9.584665  10.223642  3.833866   \n",
      "Tuesday               NaN  11.490683  1.863354  8.695652   6.832298  5.900621   \n",
      "Wednesday             NaN   8.580858  5.940594  8.250825   5.280528  4.290429   \n",
      "Thursday              NaN   8.433735  5.421687  7.530120   8.734940  4.518072   \n",
      "Friday           0.534759   6.684492  8.021390  6.149733  17.647059  3.743316   \n",
      "Saturday              NaN   8.120650  7.888631  6.496520  17.633411  4.872390   \n",
      "Sunday           0.394477   5.325444  7.889546  7.100592  18.145957  5.128205   \n",
      "\n",
      "District/Sector         G          J         K         L         M         N  \\\n",
      "Occurred Day                                                                   \n",
      "Monday           3.833866   8.626198  3.833866  7.987220  5.111821  2.875399   \n",
      "Tuesday          2.795031   7.763975  3.416149  3.105590  8.385093  5.900621   \n",
      "Wednesday        1.980198  10.561056  5.610561  5.940594  7.920792  7.590759   \n",
      "Thursday         3.915663   7.228916  5.421687  6.325301  6.927711  3.614458   \n",
      "Friday           4.545455   6.149733  6.417112  4.545455  4.545455  5.614973   \n",
      "Saturday         2.088167   6.264501  4.408353  3.712297  5.800464  6.728538   \n",
      "Sunday           1.380671   3.944773  5.325444  5.128205  9.664694  4.536489   \n",
      "\n",
      "District/Sector         O         Q         R         S         U         W  \n",
      "Occurred Day                                                                 \n",
      "Monday           1.597444  4.472843  8.306709  3.194888  5.111821  3.833866  \n",
      "Tuesday          3.416149  9.006211  4.658385  5.590062  5.279503  5.900621  \n",
      "Wednesday        2.310231  5.280528  4.290429  4.950495  9.570957  1.650165  \n",
      "Thursday         3.012048  8.734940  4.216867  6.024096  9.036145  0.903614  \n",
      "Friday           1.069519  6.417112  5.080214  1.336898  9.358289  2.139037  \n",
      "Saturday         3.944316  8.120650  3.480278  2.784223  5.104408  2.552204  \n",
      "Sunday           2.169625  7.495069  4.142012  1.577909  9.072978  1.577909  \n"
     ]
    },
    {
     "data": {
      "text/plain": [
       "<matplotlib.text.Text at 0x10bcb6490>"
      ]
     },
     "execution_count": 101,
     "metadata": {},
     "output_type": "execute_result"
    },
    {
     "data": {
      "image/png": "[encoded data removed]",
      "text/plain": [
       "<matplotlib.figure.Figure at 0x108c7d790>"
      ]
     },
     "metadata": {},
     "output_type": "display_data"
    },
    {
     "data": {
      "text/plain": [
       "<matplotlib.figure.Figure at 0x10cd74490>"
      ]
     },
     "metadata": {},
     "output_type": "display_data"
    }
   ],
   "source": [
    "plt.figure(7)\n",
    "nightly_thefts_perc = nightly_thefts.apply(lambda x: x / x.sum() * 100, axis=1)\n",
    "nightly_thefts_perc = nightly_thefts_perc.reindex(['Monday', 'Tuesday', 'Wednesday', 'Thursday', 'Friday', 'Saturday', 'Sunday'])\n",
    "print(nightly_thefts_perc)\n",
    "nightly_thefts_perc.plot(kind='bar', stacked=False).legend(loc='center left', bbox_to_anchor=(1, 0.5))\n",
    "plt.ylabel('Percentage of thefts at night')\n",
    "plt.xlabel('Day of week')\n",
    "plt.title('Distribution of nightly thefts per district')"
   ]
  },
  {
   "cell_type": "markdown",
   "metadata": {},
   "source": [
    "Very interestingly, the percentage of theft increases dramatically on Friday, Saturday and Sunday nights in the E district. Thefts in that part of town represent up to 18% of all thefts. This goes down to ~ 10% on Mondays, is at its minimum on Wednesday (~5%), and starts going back up on Thursdays."
   ]
  },
  {
   "cell_type": "code",
   "execution_count": 102,
   "metadata": {
    "collapsed": false
   },
   "outputs": [
    {
     "data": {
      "text/plain": [
       "53"
      ]
     },
     "execution_count": 102,
     "metadata": {},
     "output_type": "execute_result"
    }
   ],
   "source": [
    "len(set(df['Zone/Beat']))"
   ]
  },
  {
   "cell_type": "code",
   "execution_count": 103,
   "metadata": {
    "collapsed": false,
    "scrolled": true
   },
   "outputs": [
    {
     "name": "stdout",
     "output_type": "stream",
     "text": [
      "set(['A', 'C', 'B', 'E', 'D', 'G', 'F', 'K', 'J', 'M', 'L', 'O', 'N', 'Q', 'S', 'R', 'U', 'W', 'Z'])\n",
      "set(['A', 'C', 'B', 'E', 'D', 'G', 'F', 'K', 'J', 'M', 'L', 'O', 'N', 'Q', 'S', 'R', 'U', 'W', 'Z'])\n",
      "set([1, 2, 3, 4, 5, 6, 7, 10, 11, 12, 13, 14, 15, 17, 18, 19, 21, 23, 26])\n"
     ]
    }
   ],
   "source": [
    "nightly_thefts_all = df[(df['Shorten offense'] == 'THEFT') & (df['Period'] == 'Night')]\n",
    "set(nightly_thefts_all['District/Sector'])\n",
    "\n",
    "nightly_thefts_all2 = nightly_thefts_all.copy()\n",
    "nightly_thefts_all2['District2'] = nightly_thefts_all2['District/Sector']\n",
    "nightly_thefts_all2.ix[nightly_thefts_all2['District/Sector'] == '99', 'District2'] = 'Z'\n",
    "nightly_thefts_all2['District2'].fillna('A', inplace=True)\n",
    "print(set(nightly_thefts_all2['District2']))\n",
    "nightly_thefts_all2 = nightly_thefts_all2.dropna(subset = ['District2'])\n",
    "print(set(nightly_thefts_all2['District2']))\n",
    "nightly_thefts_all2['color'] = [ord(x) -64 for x in nightly_thefts_all2['District2']]\n",
    "print(set(nightly_thefts_all2['color']))\n",
    "\n",
    "# >> Color = number of thefts events per group\n"
   ]
  },
  {
   "cell_type": "code",
   "execution_count": 104,
   "metadata": {
    "collapsed": false
   },
   "outputs": [
    {
     "data": {
      "text/html": [
       "<div>\n",
       "<table border=\"1\" class=\"dataframe\">\n",
       "  <thead>\n",
       "    <tr style=\"text-align: right;\">\n",
       "      <th></th>\n",
       "      <th>RMS CDW ID</th>\n",
       "      <th>General Offense Number</th>\n",
       "      <th>Offense Code</th>\n",
       "      <th>Offense Code Extension</th>\n",
       "      <th>Offense Type</th>\n",
       "      <th>Summary Offense Code</th>\n",
       "      <th>Summarized Offense Description</th>\n",
       "      <th>Date Reported</th>\n",
       "      <th>Occurred Date or Date Range Start</th>\n",
       "      <th>Occurred Date Range End</th>\n",
       "      <th>...</th>\n",
       "      <th>Location</th>\n",
       "      <th>Month</th>\n",
       "      <th>Year</th>\n",
       "      <th>Datetime Occurred</th>\n",
       "      <th>Occurred Day</th>\n",
       "      <th>Occurred Hour</th>\n",
       "      <th>Period</th>\n",
       "      <th>Shorten offense</th>\n",
       "      <th>District2</th>\n",
       "      <th>color</th>\n",
       "    </tr>\n",
       "  </thead>\n",
       "  <tbody>\n",
       "    <tr>\n",
       "      <th>6</th>\n",
       "      <td>470170</td>\n",
       "      <td>2015185464</td>\n",
       "      <td>2308</td>\n",
       "      <td>0</td>\n",
       "      <td>THEFT-BUILDING</td>\n",
       "      <td>2300</td>\n",
       "      <td>OTHER PROPERTY</td>\n",
       "      <td>06/04/2015 11:13:00 AM</td>\n",
       "      <td>06/01/2014 12:00:00 AM</td>\n",
       "      <td>06/01/2015 06:15:00 PM</td>\n",
       "      <td>...</td>\n",
       "      <td>(47.640094502, -122.370772861)</td>\n",
       "      <td>6</td>\n",
       "      <td>2014</td>\n",
       "      <td>2014-06-01 00:00:00</td>\n",
       "      <td>Sunday</td>\n",
       "      <td>0</td>\n",
       "      <td>Night</td>\n",
       "      <td>THEFT</td>\n",
       "      <td>Q</td>\n",
       "      <td>17</td>\n",
       "    </tr>\n",
       "    <tr>\n",
       "      <th>12</th>\n",
       "      <td>478954</td>\n",
       "      <td>2015132500</td>\n",
       "      <td>2399</td>\n",
       "      <td>3</td>\n",
       "      <td>THEFT-OTH</td>\n",
       "      <td>2300</td>\n",
       "      <td>OTHER PROPERTY</td>\n",
       "      <td>04/23/2015 09:30:00 AM</td>\n",
       "      <td>06/20/2014 12:00:00 AM</td>\n",
       "      <td>04/22/2015 12:00:00 AM</td>\n",
       "      <td>...</td>\n",
       "      <td>(47.725035551, -122.344996832)</td>\n",
       "      <td>6</td>\n",
       "      <td>2014</td>\n",
       "      <td>2014-06-20 00:00:00</td>\n",
       "      <td>Friday</td>\n",
       "      <td>0</td>\n",
       "      <td>Night</td>\n",
       "      <td>THEFT</td>\n",
       "      <td>N</td>\n",
       "      <td>14</td>\n",
       "    </tr>\n",
       "    <tr>\n",
       "      <th>13</th>\n",
       "      <td>451902</td>\n",
       "      <td>2015132500</td>\n",
       "      <td>2399</td>\n",
       "      <td>3</td>\n",
       "      <td>THEFT-OTH</td>\n",
       "      <td>2300</td>\n",
       "      <td>OTHER PROPERTY</td>\n",
       "      <td>04/23/2015 09:30:00 AM</td>\n",
       "      <td>06/20/2014 12:00:00 AM</td>\n",
       "      <td>04/22/2015 12:00:00 AM</td>\n",
       "      <td>...</td>\n",
       "      <td>(47.725035551, -122.344996832)</td>\n",
       "      <td>6</td>\n",
       "      <td>2014</td>\n",
       "      <td>2014-06-20 00:00:00</td>\n",
       "      <td>Friday</td>\n",
       "      <td>0</td>\n",
       "      <td>Night</td>\n",
       "      <td>THEFT</td>\n",
       "      <td>N</td>\n",
       "      <td>14</td>\n",
       "    </tr>\n",
       "    <tr>\n",
       "      <th>17</th>\n",
       "      <td>451059</td>\n",
       "      <td>2015115270</td>\n",
       "      <td>2399</td>\n",
       "      <td>3</td>\n",
       "      <td>THEFT-OTH</td>\n",
       "      <td>2300</td>\n",
       "      <td>OTHER PROPERTY</td>\n",
       "      <td>04/08/2015 11:37:00 PM</td>\n",
       "      <td>06/01/2014 12:01:00 AM</td>\n",
       "      <td>04/08/2015 10:30:00 PM</td>\n",
       "      <td>...</td>\n",
       "      <td>(47.533661622, -122.271314896)</td>\n",
       "      <td>6</td>\n",
       "      <td>2014</td>\n",
       "      <td>2014-06-01 00:01:00</td>\n",
       "      <td>Sunday</td>\n",
       "      <td>0</td>\n",
       "      <td>Night</td>\n",
       "      <td>THEFT</td>\n",
       "      <td>S</td>\n",
       "      <td>19</td>\n",
       "    </tr>\n",
       "    <tr>\n",
       "      <th>22</th>\n",
       "      <td>200727</td>\n",
       "      <td>201588472</td>\n",
       "      <td>2304</td>\n",
       "      <td>1</td>\n",
       "      <td>THEFT-AUTOACC</td>\n",
       "      <td>2300</td>\n",
       "      <td>OTHER PROPERTY</td>\n",
       "      <td>03/18/2015 08:44:00 AM</td>\n",
       "      <td>07/01/2014 12:00:00 AM</td>\n",
       "      <td>03/18/2015 08:20:00 AM</td>\n",
       "      <td>...</td>\n",
       "      <td>(47.539678951, -122.379820912)</td>\n",
       "      <td>7</td>\n",
       "      <td>2014</td>\n",
       "      <td>2014-07-01 00:00:00</td>\n",
       "      <td>Tuesday</td>\n",
       "      <td>0</td>\n",
       "      <td>Night</td>\n",
       "      <td>THEFT</td>\n",
       "      <td>W</td>\n",
       "      <td>23</td>\n",
       "    </tr>\n",
       "  </tbody>\n",
       "</table>\n",
       "<p>5 rows × 26 columns</p>\n",
       "</div>"
      ],
      "text/plain": [
       "    RMS CDW ID  General Offense Number Offense Code  Offense Code Extension  \\\n",
       "6       470170              2015185464         2308                       0   \n",
       "12      478954              2015132500         2399                       3   \n",
       "13      451902              2015132500         2399                       3   \n",
       "17      451059              2015115270         2399                       3   \n",
       "22      200727               201588472         2304                       1   \n",
       "\n",
       "      Offense Type Summary Offense Code Summarized Offense Description  \\\n",
       "6   THEFT-BUILDING                 2300                 OTHER PROPERTY   \n",
       "12       THEFT-OTH                 2300                 OTHER PROPERTY   \n",
       "13       THEFT-OTH                 2300                 OTHER PROPERTY   \n",
       "17       THEFT-OTH                 2300                 OTHER PROPERTY   \n",
       "22   THEFT-AUTOACC                 2300                 OTHER PROPERTY   \n",
       "\n",
       "             Date Reported Occurred Date or Date Range Start  \\\n",
       "6   06/04/2015 11:13:00 AM            06/01/2014 12:00:00 AM   \n",
       "12  04/23/2015 09:30:00 AM            06/20/2014 12:00:00 AM   \n",
       "13  04/23/2015 09:30:00 AM            06/20/2014 12:00:00 AM   \n",
       "17  04/08/2015 11:37:00 PM            06/01/2014 12:01:00 AM   \n",
       "22  03/18/2015 08:44:00 AM            07/01/2014 12:00:00 AM   \n",
       "\n",
       "   Occurred Date Range End  ...                         Location Month  Year  \\\n",
       "6   06/01/2015 06:15:00 PM  ...   (47.640094502, -122.370772861)     6  2014   \n",
       "12  04/22/2015 12:00:00 AM  ...   (47.725035551, -122.344996832)     6  2014   \n",
       "13  04/22/2015 12:00:00 AM  ...   (47.725035551, -122.344996832)     6  2014   \n",
       "17  04/08/2015 10:30:00 PM  ...   (47.533661622, -122.271314896)     6  2014   \n",
       "22  03/18/2015 08:20:00 AM  ...   (47.539678951, -122.379820912)     7  2014   \n",
       "\n",
       "     Datetime Occurred  Occurred Day  Occurred Hour Period  Shorten offense  \\\n",
       "6  2014-06-01 00:00:00        Sunday              0  Night            THEFT   \n",
       "12 2014-06-20 00:00:00        Friday              0  Night            THEFT   \n",
       "13 2014-06-20 00:00:00        Friday              0  Night            THEFT   \n",
       "17 2014-06-01 00:01:00        Sunday              0  Night            THEFT   \n",
       "22 2014-07-01 00:00:00       Tuesday              0  Night            THEFT   \n",
       "\n",
       "    District2 color  \n",
       "6           Q    17  \n",
       "12          N    14  \n",
       "13          N    14  \n",
       "17          S    19  \n",
       "22          W    23  \n",
       "\n",
       "[5 rows x 26 columns]"
      ]
     },
     "execution_count": 104,
     "metadata": {},
     "output_type": "execute_result"
    }
   ],
   "source": [
    "nightly_thefts_all2.head()"
   ]
  },
  {
   "cell_type": "code",
   "execution_count": 105,
   "metadata": {
    "collapsed": false,
    "scrolled": false
   },
   "outputs": [
    {
     "data": {
      "text/plain": [
       "<matplotlib.figure.Figure at 0x10ada7a50>"
      ]
     },
     "metadata": {},
     "output_type": "display_data"
    },
    {
     "data": {
      "text/html": [
       "<iframe width=\"45%\" height=\"350\" src=\"Nightly_thefts_map_left_explor.html\" align=\"left\"></iframe><iframe width=\"45%\" height=\"350\" src=\"Nightly_thefts_map_right_explor.html\" align=\"right\"></iframe>"
      ],
      "text/plain": [
       "<IPython.core.display.HTML object>"
      ]
     },
     "metadata": {},
     "output_type": "display_data"
    },
    {
     "data": {
      "text/plain": [
       "<matplotlib.figure.Figure at 0x10ada7a50>"
      ]
     },
     "metadata": {},
     "output_type": "display_data"
    }
   ],
   "source": [
    "# groupby the value chosen in the widget\n",
    "import ipywidgets as widgets\n",
    "from IPython.display import display, clear_output\n",
    "from IPython.core.display import HTML\n",
    "\n",
    "\n",
    "day_of_week = ['Monday', 'Tuesday', 'Wednesday', 'Thursday', 'Friday', 'Saturday', 'Sunday']\n",
    "\n",
    "# Grouped by day of week\n",
    "theft_count = nightly_thefts_all2.groupby(['Occurred Day', 'District/Sector'])['General Offense Number'].count().unstack('District/Sector')\n",
    "theft_lat = nightly_thefts_all2[nightly_thefts_all2['Latitude']!=0.0].groupby(['Occurred Day', 'District/Sector'])['Latitude'].mean().unstack('District/Sector')\n",
    "theft_lon = nightly_thefts_all2[nightly_thefts_all2['Longitude']!=0.0].groupby(['Occurred Day', 'District/Sector'])['Longitude'].mean().unstack('District/Sector')\n",
    "theft_count= theft_count.drop(['99'], axis=1)\n",
    "theft_lat= theft_lat.drop(['99'], axis=1)\n",
    "theft_lon= theft_lon.drop(['99'], axis=1)\n",
    "\n",
    "# Overall\n",
    "theft_all_count = pd.DataFrame(nightly_thefts_all2.groupby(['District/Sector'])['General Offense Number'].count())\n",
    "theft_all_lat = pd.DataFrame(nightly_thefts_all2[nightly_thefts_all2['Latitude']!=0.0].groupby(['District/Sector'])['Latitude'].mean())\n",
    "theft_all_lon = pd.DataFrame(nightly_thefts_all2[nightly_thefts_all2['Longitude']!=0.0].groupby(['District/Sector'])['Longitude'].mean())\n",
    "theft_all_df = pd.concat([theft_all_count, theft_all_lat, theft_all_lon], axis=1)\n",
    "theft_all_df = theft_all_df.ix[1:,:]\n",
    "# print(theft_lon)\n",
    "\n",
    "color_dict=dict(B='blue', C='cyan', D='olive', \n",
    "                E='purple', F='fushia', G='green',\n",
    "                J='yellow', K='khaki', L='salmon',\n",
    "                M='magenta', N='lime', O='orange', \n",
    "                Q='slategrey', R='red', S='brown',\n",
    "                U='gold', W='lavender')\n",
    "\n",
    "selection_left=widgets.Dropdown(description='Left: Day of week?')\n",
    "selection_left.options=day_of_week\n",
    "# display(selection_left)\n",
    "\n",
    "# print(theft_count.shape)\n",
    "\n",
    "def on_button_clicked(b):\n",
    "    clear_output(wait=True)\n",
    "    display(plt.gcf())\n",
    "\n",
    "\n",
    "# #     fig = plt.figure(10)\n",
    "#     nightly_thefts_all_subset = nightly_thefts_all2[nightly_thefts_all2['Occurred Day']==selection.value]\n",
    "    \n",
    "#     nightly_thefts_given_day = nightly_thefts_all2.groupby(['Occurred Day'])['General Offense Number'].count()\n",
    "#     nightly_thefts_given_day['Friday']\n",
    "    \n",
    "\n",
    "#     for point in nightly_thefts_all_subset.iterrows():\n",
    "#         folium.CircleMarker([point[1]['Latitude'], point[1]['Longitude']], radius=20., fill_color=linear(point[1]['color']), color=linear(point[1]['color']), fill_opacity=10).add_to(map)\n",
    "    \n",
    "    map = folium.Map(location=[47.607055,-122.321494], zoom_start=10, tiles='Stamen Terrain')\n",
    "#     linear = cm.linear.Dark2.scale(1,26)\n",
    "\n",
    "    for col in theft_count.columns:\n",
    "        folium.CircleMarker([theft_lat.ix[selection_left.value,col], \n",
    "                             theft_lon.ix[selection_left.value,col]], \n",
    "                             radius=100.*np.sqrt(theft_count.ix[selection_left.value,col]),\n",
    "                             fill_color=color_dict[col],\n",
    "                             color=color_dict[col],\n",
    "                             popup=folium.Popup(', '.join([col, str(int(theft_count.ix[selection_left.value,col]))+' events']))).add_to(map)\n",
    "\n",
    "    map.save('Nightly_thefts_map_left_explor.html')\n",
    "    display(HTML('<iframe width=\"45%\" height=\"350\" src=\"Nightly_thefts_map_left_explor.html\" align=\"left\"></iframe>'\n",
    "                 '<iframe width=\"45%\" height=\"350\" src=\"Nightly_thefts_map_right_explor.html\" align=\"right\"></iframe>'))\n",
    "\n",
    "# button=widgets.Button(description=\"Make left graph\")\n",
    "# display(button)\n",
    "# button.on_click(on_button_clicked)\n",
    "selection_left.observe(on_button_clicked)\n",
    "display(selection_left)\n",
    "\n",
    "# Help: https://medium.com/@captain_eli/3-ways-to-make-interactive-graphs-in-jupyter-notebooks-154cbb4796a9#.du361ot84    \n",
    "\n",
    "\n",
    "# Overall map\n",
    "# map = folium.Map(location=[47.607055,-122.321494], zoom_start=10, tiles='Stamen Terrain')\n",
    "\n",
    "# for point in theft_all_df.iterrows():\n",
    "#     folium.CircleMarker([point[1]['Latitude'], point[1]['Longitude']], \n",
    "#                          radius=15.*point[1]['General Offense Number'],\n",
    "#                          fill_color=color_dict[point[0]],\n",
    "#                          color=color_dict[point[0]]).add_to(map)\n",
    "# map.save('Nightly_overall_thefts_map.html')\n",
    "\n",
    "\n",
    "selection_right=widgets.Dropdown(description='Right: Day of week?')\n",
    "selection_right.options=day_of_week\n",
    "selection_right.value='Friday'\n",
    "# display(selection_right)\n",
    "\n",
    "\n",
    "def on_button_clicked2(b):\n",
    "    clear_output(wait=True)\n",
    "    display(plt.gcf())\n",
    "\n",
    "    \n",
    "#     fig = plt.figure(10)\n",
    "#     nightly_thefts_all_subset = nightly_thefts_all2[nightly_thefts_all2['Occurred Day']==selection.value]\n",
    "    \n",
    "#     nightly_thefts_given_day = nightly_thefts_all2.groupby(['Occurred Day'])['General Offense Number'].count()\n",
    "#     nightly_thefts_given_day['Friday']\n",
    "    \n",
    "\n",
    "#     for point in nightly_thefts_all_subset.iterrows():\n",
    "#         folium.CircleMarker([point[1]['Latitude'], point[1]['Longitude']], radius=20., fill_color=linear(point[1]['color']), color=linear(point[1]['color']), fill_opacity=10).add_to(map)\n",
    "    \n",
    "    map = folium.Map(location=[47.607055,-122.321494], zoom_start=10, tiles='Stamen Terrain')\n",
    "#     linear = cm.linear.Dark2.scale(1,26)\n",
    "\n",
    "    for col in theft_count.columns:\n",
    "        folium.CircleMarker([theft_lat.ix[selection_right.value,col], \n",
    "                             theft_lon.ix[selection_right.value,col]], \n",
    "                             radius=100*np.sqrt(theft_count.ix[selection_right.value,col]),\n",
    "                             fill_color=color_dict[col],\n",
    "                             color=color_dict[col],\n",
    "                             popup=folium.Popup(', '.join([col, str(int(theft_count.ix[selection_right.value,col]))+' events']))).add_to(map)\n",
    "       \n",
    "    map.save('Nightly_thefts_map_right_explor.html')\n",
    "    display(HTML('<iframe width=\"45%\" height=\"350\" src=\"Nightly_thefts_map_left_explor.html\" align=\"left\"></iframe>'\n",
    "                 '<iframe width=\"45%\" height=\"350\" src=\"Nightly_thefts_map_right_explor.html\" align=\"right\"></iframe>'))\n",
    "\n",
    "# button2=widgets.Button(description=\"Make right graph\")\n",
    "# display(button2)\n",
    "# button2.on_click(on_button_clicked2)\n",
    "selection_right.observe(on_button_clicked2)\n",
    "display(selection_right)\n"
   ]
  },
  {
   "cell_type": "markdown",
   "metadata": {},
   "source": [
    "Please, click on the circles to display their District/Sector names and number of thefts"
   ]
  },
  {
   "cell_type": "code",
   "execution_count": 106,
   "metadata": {
    "collapsed": false
   },
   "outputs": [
    {
     "data": {
      "text/html": [
       "<div>\n",
       "<table border=\"1\" class=\"dataframe\">\n",
       "  <thead>\n",
       "    <tr style=\"text-align: right;\">\n",
       "      <th>District/Sector</th>\n",
       "      <th>B</th>\n",
       "      <th>C</th>\n",
       "      <th>D</th>\n",
       "      <th>E</th>\n",
       "      <th>F</th>\n",
       "      <th>G</th>\n",
       "      <th>J</th>\n",
       "      <th>K</th>\n",
       "      <th>L</th>\n",
       "      <th>M</th>\n",
       "      <th>N</th>\n",
       "      <th>O</th>\n",
       "      <th>Q</th>\n",
       "      <th>R</th>\n",
       "      <th>S</th>\n",
       "      <th>U</th>\n",
       "      <th>W</th>\n",
       "    </tr>\n",
       "    <tr>\n",
       "      <th>Occurred Day</th>\n",
       "      <th></th>\n",
       "      <th></th>\n",
       "      <th></th>\n",
       "      <th></th>\n",
       "      <th></th>\n",
       "      <th></th>\n",
       "      <th></th>\n",
       "      <th></th>\n",
       "      <th></th>\n",
       "      <th></th>\n",
       "      <th></th>\n",
       "      <th></th>\n",
       "      <th></th>\n",
       "      <th></th>\n",
       "      <th></th>\n",
       "      <th></th>\n",
       "      <th></th>\n",
       "    </tr>\n",
       "  </thead>\n",
       "  <tbody>\n",
       "    <tr>\n",
       "      <th>Friday</th>\n",
       "      <td>25.0</td>\n",
       "      <td>30.0</td>\n",
       "      <td>23.0</td>\n",
       "      <td>66.0</td>\n",
       "      <td>14.0</td>\n",
       "      <td>17.0</td>\n",
       "      <td>23.0</td>\n",
       "      <td>24.0</td>\n",
       "      <td>17.0</td>\n",
       "      <td>17.0</td>\n",
       "      <td>21.0</td>\n",
       "      <td>4.0</td>\n",
       "      <td>24.0</td>\n",
       "      <td>19.0</td>\n",
       "      <td>5.0</td>\n",
       "      <td>35.0</td>\n",
       "      <td>8.0</td>\n",
       "    </tr>\n",
       "    <tr>\n",
       "      <th>Monday</th>\n",
       "      <td>31.0</td>\n",
       "      <td>24.0</td>\n",
       "      <td>30.0</td>\n",
       "      <td>32.0</td>\n",
       "      <td>12.0</td>\n",
       "      <td>12.0</td>\n",
       "      <td>27.0</td>\n",
       "      <td>12.0</td>\n",
       "      <td>25.0</td>\n",
       "      <td>16.0</td>\n",
       "      <td>9.0</td>\n",
       "      <td>5.0</td>\n",
       "      <td>14.0</td>\n",
       "      <td>26.0</td>\n",
       "      <td>10.0</td>\n",
       "      <td>16.0</td>\n",
       "      <td>12.0</td>\n",
       "    </tr>\n",
       "    <tr>\n",
       "      <th>Saturday</th>\n",
       "      <td>35.0</td>\n",
       "      <td>34.0</td>\n",
       "      <td>28.0</td>\n",
       "      <td>76.0</td>\n",
       "      <td>21.0</td>\n",
       "      <td>9.0</td>\n",
       "      <td>27.0</td>\n",
       "      <td>19.0</td>\n",
       "      <td>16.0</td>\n",
       "      <td>25.0</td>\n",
       "      <td>29.0</td>\n",
       "      <td>17.0</td>\n",
       "      <td>35.0</td>\n",
       "      <td>15.0</td>\n",
       "      <td>12.0</td>\n",
       "      <td>22.0</td>\n",
       "      <td>11.0</td>\n",
       "    </tr>\n",
       "    <tr>\n",
       "      <th>Sunday</th>\n",
       "      <td>27.0</td>\n",
       "      <td>40.0</td>\n",
       "      <td>36.0</td>\n",
       "      <td>92.0</td>\n",
       "      <td>26.0</td>\n",
       "      <td>7.0</td>\n",
       "      <td>20.0</td>\n",
       "      <td>27.0</td>\n",
       "      <td>26.0</td>\n",
       "      <td>49.0</td>\n",
       "      <td>23.0</td>\n",
       "      <td>11.0</td>\n",
       "      <td>38.0</td>\n",
       "      <td>21.0</td>\n",
       "      <td>8.0</td>\n",
       "      <td>46.0</td>\n",
       "      <td>8.0</td>\n",
       "    </tr>\n",
       "    <tr>\n",
       "      <th>Thursday</th>\n",
       "      <td>28.0</td>\n",
       "      <td>18.0</td>\n",
       "      <td>25.0</td>\n",
       "      <td>29.0</td>\n",
       "      <td>15.0</td>\n",
       "      <td>13.0</td>\n",
       "      <td>24.0</td>\n",
       "      <td>18.0</td>\n",
       "      <td>21.0</td>\n",
       "      <td>23.0</td>\n",
       "      <td>12.0</td>\n",
       "      <td>10.0</td>\n",
       "      <td>29.0</td>\n",
       "      <td>14.0</td>\n",
       "      <td>20.0</td>\n",
       "      <td>30.0</td>\n",
       "      <td>3.0</td>\n",
       "    </tr>\n",
       "    <tr>\n",
       "      <th>Tuesday</th>\n",
       "      <td>37.0</td>\n",
       "      <td>6.0</td>\n",
       "      <td>28.0</td>\n",
       "      <td>22.0</td>\n",
       "      <td>19.0</td>\n",
       "      <td>9.0</td>\n",
       "      <td>25.0</td>\n",
       "      <td>11.0</td>\n",
       "      <td>10.0</td>\n",
       "      <td>27.0</td>\n",
       "      <td>19.0</td>\n",
       "      <td>11.0</td>\n",
       "      <td>29.0</td>\n",
       "      <td>15.0</td>\n",
       "      <td>18.0</td>\n",
       "      <td>17.0</td>\n",
       "      <td>19.0</td>\n",
       "    </tr>\n",
       "    <tr>\n",
       "      <th>Wednesday</th>\n",
       "      <td>26.0</td>\n",
       "      <td>18.0</td>\n",
       "      <td>25.0</td>\n",
       "      <td>16.0</td>\n",
       "      <td>13.0</td>\n",
       "      <td>6.0</td>\n",
       "      <td>32.0</td>\n",
       "      <td>17.0</td>\n",
       "      <td>18.0</td>\n",
       "      <td>24.0</td>\n",
       "      <td>23.0</td>\n",
       "      <td>7.0</td>\n",
       "      <td>16.0</td>\n",
       "      <td>13.0</td>\n",
       "      <td>15.0</td>\n",
       "      <td>29.0</td>\n",
       "      <td>5.0</td>\n",
       "    </tr>\n",
       "  </tbody>\n",
       "</table>\n",
       "</div>"
      ],
      "text/plain": [
       "District/Sector     B     C     D     E     F     G     J     K     L     M  \\\n",
       "Occurred Day                                                                  \n",
       "Friday           25.0  30.0  23.0  66.0  14.0  17.0  23.0  24.0  17.0  17.0   \n",
       "Monday           31.0  24.0  30.0  32.0  12.0  12.0  27.0  12.0  25.0  16.0   \n",
       "Saturday         35.0  34.0  28.0  76.0  21.0   9.0  27.0  19.0  16.0  25.0   \n",
       "Sunday           27.0  40.0  36.0  92.0  26.0   7.0  20.0  27.0  26.0  49.0   \n",
       "Thursday         28.0  18.0  25.0  29.0  15.0  13.0  24.0  18.0  21.0  23.0   \n",
       "Tuesday          37.0   6.0  28.0  22.0  19.0   9.0  25.0  11.0  10.0  27.0   \n",
       "Wednesday        26.0  18.0  25.0  16.0  13.0   6.0  32.0  17.0  18.0  24.0   \n",
       "\n",
       "District/Sector     N     O     Q     R     S     U     W  \n",
       "Occurred Day                                               \n",
       "Friday           21.0   4.0  24.0  19.0   5.0  35.0   8.0  \n",
       "Monday            9.0   5.0  14.0  26.0  10.0  16.0  12.0  \n",
       "Saturday         29.0  17.0  35.0  15.0  12.0  22.0  11.0  \n",
       "Sunday           23.0  11.0  38.0  21.0   8.0  46.0   8.0  \n",
       "Thursday         12.0  10.0  29.0  14.0  20.0  30.0   3.0  \n",
       "Tuesday          19.0  11.0  29.0  15.0  18.0  17.0  19.0  \n",
       "Wednesday        23.0   7.0  16.0  13.0  15.0  29.0   5.0  "
      ]
     },
     "execution_count": 106,
     "metadata": {},
     "output_type": "execute_result"
    }
   ],
   "source": [
    "theft_count"
   ]
  },
  {
   "cell_type": "code",
   "execution_count": 107,
   "metadata": {
    "collapsed": false,
    "scrolled": true
   },
   "outputs": [
    {
     "data": {
      "text/html": [
       "<iframe width=\"45%\" height=\"350\" src=\"Nightly_thefts_map_left_explor.html\"></iframe>\n",
       "<iframe width=\"45%\" height=\"350\" src=\"Nightly_thefts_map_right_explor.html\"></iframe>"
      ],
      "text/plain": [
       "<IPython.core.display.HTML object>"
      ]
     },
     "metadata": {},
     "output_type": "display_data"
    }
   ],
   "source": [
    "%%HTML\n",
    "<iframe width=\"45%\" height=\"350\" src=\"Nightly_thefts_map_left_explor.html\"></iframe>\n",
    "<iframe width=\"45%\" height=\"350\" src=\"Nightly_thefts_map_right_explor.html\"></iframe>"
   ]
  },
  {
   "cell_type": "markdown",
   "metadata": {},
   "source": [
    "Note: Number of events shows on the map is < number counted in the graphs, because removed the events with lat=lon=0deg --> Actually, no because removed the points with lat=lon=0 only for the calculation of the avg lat and avg lon, not total counts\n",
    "\n",
    "Removed records for District/Sector '99' because mostly NaNs, and records for which District/Sector = NaN"
   ]
  },
  {
   "cell_type": "code",
   "execution_count": 108,
   "metadata": {
    "collapsed": false
   },
   "outputs": [],
   "source": [
    "# map = folium.Map(location=[47.607055,-122.321494], zoom_start=11)\n",
    "# linear = cm.linear.Dark2.scale(1,26)\n",
    "# linear\n",
    "\n",
    "# for point in nightly_thefts_all2.iterrows():\n",
    "#     folium.CircleMarker([point[1]['Latitude'], point[1]['Longitude']], radius=20., fill_color=linear(point[1]['color']), color=linear(point[1]['color']), fill_opacity=10).add_to(map)\n",
    "# map.save('Nightly_thefts_map.html')"
   ]
  },
  {
   "cell_type": "code",
   "execution_count": 109,
   "metadata": {
    "collapsed": false
   },
   "outputs": [],
   "source": [
    "# %%HTML\n",
    "# <iframe width=\"100%\" height=\"350\" src=\"Nightly_thefts_map.html\"></iframe>"
   ]
  },
  {
   "cell_type": "code",
   "execution_count": 110,
   "metadata": {
    "collapsed": true
   },
   "outputs": [],
   "source": [
    "nightly_thefts_all_subset = nightly_thefts_all2[nightly_thefts_all2['Occurred Day']=='Friday']"
   ]
  },
  {
   "cell_type": "code",
   "execution_count": 111,
   "metadata": {
    "collapsed": false
   },
   "outputs": [
    {
     "name": "stdout",
     "output_type": "stream",
     "text": [
      "District/Sector           B           C           D           E           F  \\\n",
      "Occurred Day                                                                  \n",
      "Friday          -122.366711 -122.308133 -122.340716 -122.322206 -122.336767   \n",
      "Monday          -122.361177 -122.311775 -122.335194 -122.320937 -122.358787   \n",
      "Saturday        -122.361118 -122.313144 -122.340595 -122.320432 -122.348279   \n",
      "Sunday          -122.368932 -122.311861 -122.341648 -122.321225 -122.347187   \n",
      "Thursday        -122.363774 -122.311298 -122.342298 -122.321748 -122.339816   \n",
      "Tuesday         -122.364786 -122.315802 -122.341173 -122.321394 -122.346539   \n",
      "Wednesday       -122.373038 -122.310050 -122.339248 -122.323987 -122.354892   \n",
      "\n",
      "District/Sector           G           J           K           L           M  \\\n",
      "Occurred Day                                                                  \n",
      "Friday          -122.303916 -122.349152 -122.331780 -122.300174 -122.341114   \n",
      "Monday          -122.304961 -122.350914 -122.330455 -122.299037 -122.340662   \n",
      "Saturday        -122.308769 -122.362476 -122.333089 -122.305431 -122.343531   \n",
      "Sunday          -122.308706 -122.349157 -122.330349 -122.297372 -122.343056   \n",
      "Thursday        -122.308356 -122.356161 -122.331948 -122.294679 -122.342548   \n",
      "Tuesday         -122.314546 -122.356255 -122.329893 -122.298511 -122.343228   \n",
      "Wednesday       -122.298648 -122.346769 -122.331524 -122.302003 -122.342017   \n",
      "\n",
      "District/Sector           N           O           Q           R           S  \\\n",
      "Occurred Day                                                                  \n",
      "Friday          -122.347711 -122.314571 -122.360891 -122.289432 -122.258130   \n",
      "Monday          -122.352578 -122.318737 -122.356668 -122.284445 -122.279586   \n",
      "Saturday        -122.346509 -122.328565 -122.363739 -122.287060 -122.269991   \n",
      "Sunday          -122.337574 -122.316516 -122.368345 -122.289329 -122.276186   \n",
      "Thursday        -122.340101 -122.322613 -122.370516 -122.276975 -122.270523   \n",
      "Tuesday         -122.344682 -122.317201 -122.362849 -122.290491 -122.276771   \n",
      "Wednesday       -122.343281 -122.312205 -122.371441 -122.288733 -122.271857   \n",
      "\n",
      "District/Sector           U           W  \n",
      "Occurred Day                             \n",
      "Friday          -122.310466 -122.385650  \n",
      "Monday          -122.308691 -122.389884  \n",
      "Saturday        -122.307756 -122.384140  \n",
      "Sunday          -122.309220 -122.383370  \n",
      "Thursday        -122.309682 -122.402712  \n",
      "Tuesday         -122.308364 -122.385015  \n",
      "Wednesday       -122.309625 -122.390480   45.45035206\n"
     ]
    },
    {
     "data": {
      "text/html": [
       "<div>\n",
       "<table border=\"1\" class=\"dataframe\">\n",
       "  <thead>\n",
       "    <tr style=\"text-align: right;\">\n",
       "      <th>District/Sector</th>\n",
       "      <th>B</th>\n",
       "      <th>C</th>\n",
       "      <th>D</th>\n",
       "      <th>E</th>\n",
       "      <th>F</th>\n",
       "      <th>G</th>\n",
       "      <th>J</th>\n",
       "      <th>K</th>\n",
       "      <th>L</th>\n",
       "      <th>M</th>\n",
       "      <th>N</th>\n",
       "      <th>O</th>\n",
       "      <th>Q</th>\n",
       "      <th>R</th>\n",
       "      <th>S</th>\n",
       "      <th>U</th>\n",
       "      <th>W</th>\n",
       "    </tr>\n",
       "    <tr>\n",
       "      <th>Occurred Day</th>\n",
       "      <th></th>\n",
       "      <th></th>\n",
       "      <th></th>\n",
       "      <th></th>\n",
       "      <th></th>\n",
       "      <th></th>\n",
       "      <th></th>\n",
       "      <th></th>\n",
       "      <th></th>\n",
       "      <th></th>\n",
       "      <th></th>\n",
       "      <th></th>\n",
       "      <th></th>\n",
       "      <th></th>\n",
       "      <th></th>\n",
       "      <th></th>\n",
       "      <th></th>\n",
       "    </tr>\n",
       "  </thead>\n",
       "  <tbody>\n",
       "    <tr>\n",
       "      <th>Friday</th>\n",
       "      <td>25.0</td>\n",
       "      <td>30.0</td>\n",
       "      <td>23.0</td>\n",
       "      <td>66.0</td>\n",
       "      <td>14.0</td>\n",
       "      <td>17.0</td>\n",
       "      <td>23.0</td>\n",
       "      <td>24.0</td>\n",
       "      <td>17.0</td>\n",
       "      <td>17.0</td>\n",
       "      <td>21.0</td>\n",
       "      <td>4.0</td>\n",
       "      <td>24.0</td>\n",
       "      <td>19.0</td>\n",
       "      <td>5.0</td>\n",
       "      <td>35.0</td>\n",
       "      <td>8.0</td>\n",
       "    </tr>\n",
       "    <tr>\n",
       "      <th>Monday</th>\n",
       "      <td>31.0</td>\n",
       "      <td>24.0</td>\n",
       "      <td>30.0</td>\n",
       "      <td>32.0</td>\n",
       "      <td>12.0</td>\n",
       "      <td>12.0</td>\n",
       "      <td>27.0</td>\n",
       "      <td>12.0</td>\n",
       "      <td>25.0</td>\n",
       "      <td>16.0</td>\n",
       "      <td>9.0</td>\n",
       "      <td>5.0</td>\n",
       "      <td>14.0</td>\n",
       "      <td>26.0</td>\n",
       "      <td>10.0</td>\n",
       "      <td>16.0</td>\n",
       "      <td>12.0</td>\n",
       "    </tr>\n",
       "    <tr>\n",
       "      <th>Saturday</th>\n",
       "      <td>35.0</td>\n",
       "      <td>34.0</td>\n",
       "      <td>28.0</td>\n",
       "      <td>76.0</td>\n",
       "      <td>21.0</td>\n",
       "      <td>9.0</td>\n",
       "      <td>27.0</td>\n",
       "      <td>19.0</td>\n",
       "      <td>16.0</td>\n",
       "      <td>25.0</td>\n",
       "      <td>29.0</td>\n",
       "      <td>17.0</td>\n",
       "      <td>35.0</td>\n",
       "      <td>15.0</td>\n",
       "      <td>12.0</td>\n",
       "      <td>22.0</td>\n",
       "      <td>11.0</td>\n",
       "    </tr>\n",
       "    <tr>\n",
       "      <th>Sunday</th>\n",
       "      <td>27.0</td>\n",
       "      <td>40.0</td>\n",
       "      <td>36.0</td>\n",
       "      <td>92.0</td>\n",
       "      <td>26.0</td>\n",
       "      <td>7.0</td>\n",
       "      <td>20.0</td>\n",
       "      <td>27.0</td>\n",
       "      <td>26.0</td>\n",
       "      <td>49.0</td>\n",
       "      <td>23.0</td>\n",
       "      <td>11.0</td>\n",
       "      <td>38.0</td>\n",
       "      <td>21.0</td>\n",
       "      <td>8.0</td>\n",
       "      <td>46.0</td>\n",
       "      <td>8.0</td>\n",
       "    </tr>\n",
       "    <tr>\n",
       "      <th>Thursday</th>\n",
       "      <td>28.0</td>\n",
       "      <td>18.0</td>\n",
       "      <td>25.0</td>\n",
       "      <td>29.0</td>\n",
       "      <td>15.0</td>\n",
       "      <td>13.0</td>\n",
       "      <td>24.0</td>\n",
       "      <td>18.0</td>\n",
       "      <td>21.0</td>\n",
       "      <td>23.0</td>\n",
       "      <td>12.0</td>\n",
       "      <td>10.0</td>\n",
       "      <td>29.0</td>\n",
       "      <td>14.0</td>\n",
       "      <td>20.0</td>\n",
       "      <td>30.0</td>\n",
       "      <td>3.0</td>\n",
       "    </tr>\n",
       "    <tr>\n",
       "      <th>Tuesday</th>\n",
       "      <td>37.0</td>\n",
       "      <td>6.0</td>\n",
       "      <td>28.0</td>\n",
       "      <td>22.0</td>\n",
       "      <td>19.0</td>\n",
       "      <td>9.0</td>\n",
       "      <td>25.0</td>\n",
       "      <td>11.0</td>\n",
       "      <td>10.0</td>\n",
       "      <td>27.0</td>\n",
       "      <td>19.0</td>\n",
       "      <td>11.0</td>\n",
       "      <td>29.0</td>\n",
       "      <td>15.0</td>\n",
       "      <td>18.0</td>\n",
       "      <td>17.0</td>\n",
       "      <td>19.0</td>\n",
       "    </tr>\n",
       "    <tr>\n",
       "      <th>Wednesday</th>\n",
       "      <td>26.0</td>\n",
       "      <td>18.0</td>\n",
       "      <td>25.0</td>\n",
       "      <td>16.0</td>\n",
       "      <td>13.0</td>\n",
       "      <td>6.0</td>\n",
       "      <td>32.0</td>\n",
       "      <td>17.0</td>\n",
       "      <td>18.0</td>\n",
       "      <td>24.0</td>\n",
       "      <td>23.0</td>\n",
       "      <td>7.0</td>\n",
       "      <td>16.0</td>\n",
       "      <td>13.0</td>\n",
       "      <td>15.0</td>\n",
       "      <td>29.0</td>\n",
       "      <td>5.0</td>\n",
       "    </tr>\n",
       "  </tbody>\n",
       "</table>\n",
       "</div>"
      ],
      "text/plain": [
       "District/Sector     B     C     D     E     F     G     J     K     L     M  \\\n",
       "Occurred Day                                                                  \n",
       "Friday           25.0  30.0  23.0  66.0  14.0  17.0  23.0  24.0  17.0  17.0   \n",
       "Monday           31.0  24.0  30.0  32.0  12.0  12.0  27.0  12.0  25.0  16.0   \n",
       "Saturday         35.0  34.0  28.0  76.0  21.0   9.0  27.0  19.0  16.0  25.0   \n",
       "Sunday           27.0  40.0  36.0  92.0  26.0   7.0  20.0  27.0  26.0  49.0   \n",
       "Thursday         28.0  18.0  25.0  29.0  15.0  13.0  24.0  18.0  21.0  23.0   \n",
       "Tuesday          37.0   6.0  28.0  22.0  19.0   9.0  25.0  11.0  10.0  27.0   \n",
       "Wednesday        26.0  18.0  25.0  16.0  13.0   6.0  32.0  17.0  18.0  24.0   \n",
       "\n",
       "District/Sector     N     O     Q     R     S     U     W  \n",
       "Occurred Day                                               \n",
       "Friday           21.0   4.0  24.0  19.0   5.0  35.0   8.0  \n",
       "Monday            9.0   5.0  14.0  26.0  10.0  16.0  12.0  \n",
       "Saturday         29.0  17.0  35.0  15.0  12.0  22.0  11.0  \n",
       "Sunday           23.0  11.0  38.0  21.0   8.0  46.0   8.0  \n",
       "Thursday         12.0  10.0  29.0  14.0  20.0  30.0   3.0  \n",
       "Tuesday          19.0  11.0  29.0  15.0  18.0  17.0  19.0  \n",
       "Wednesday        23.0   7.0  16.0  13.0  15.0  29.0   5.0  "
      ]
     },
     "execution_count": 111,
     "metadata": {},
     "output_type": "execute_result"
    }
   ],
   "source": [
    "theft_count = nightly_thefts_all2.groupby(['Occurred Day', 'District/Sector'])['General Offense Number'].count().unstack('District/Sector')\n",
    "theft_lat = nightly_thefts_all2.groupby(['Occurred Day', 'District/Sector'])['Latitude'].mean().unstack('District/Sector')\n",
    "# theft_count = nightly_thefts_all2.groupby(['Occurred Day'])['General Offense Number'].count()\n",
    "# theft_lat = nightly_thefts_all2.groupby(['Occurred Day'])['Latitude'].mean()\n",
    "print(theft_lon), theft_lat.ix['Friday','E']\n",
    "theft_count= theft_count.drop(['99'], axis=1)\n",
    "theft_count"
   ]
  },
  {
   "cell_type": "code",
   "execution_count": 112,
   "metadata": {
    "collapsed": false
   },
   "outputs": [
    {
     "name": "stdout",
     "output_type": "stream",
     "text": [
      "Offense Type  THEFT-AUTOACC  THEFT-BICYCLE  THEFT-BUILDING  THEFT-CARPROWL  \\\n",
      "Occurred Day                                                                 \n",
      "Monday                  2.0            6.0             1.0            12.0   \n",
      "Tuesday                 1.0            1.0             2.0            15.0   \n",
      "Wednesday               NaN            NaN             1.0            10.0   \n",
      "Thursday                1.0            4.0             1.0            18.0   \n",
      "Friday                  NaN            3.0             7.0            42.0   \n",
      "Saturday                NaN            1.0            14.0            29.0   \n",
      "Sunday                  NaN            2.0             7.0            47.0   \n",
      "\n",
      "Offense Type  THEFT-LICENSE PLATE  THEFT-MAIL  THEFT-OTH  THEFT-PKPOCKET  \\\n",
      "Occurred Day                                                               \n",
      "Monday                        NaN         2.0        9.0             NaN   \n",
      "Tuesday                       NaN         NaN        3.0             NaN   \n",
      "Wednesday                     1.0         2.0        2.0             NaN   \n",
      "Thursday                      NaN         NaN        4.0             1.0   \n",
      "Friday                        NaN         NaN       14.0             NaN   \n",
      "Saturday                      NaN         NaN       20.0            12.0   \n",
      "Sunday                        NaN         NaN       23.0            11.0   \n",
      "\n",
      "Offense Type  THEFT-SHOPLIFT  \n",
      "Occurred Day                  \n",
      "Monday                   NaN  \n",
      "Tuesday                  NaN  \n",
      "Wednesday                NaN  \n",
      "Thursday                 NaN  \n",
      "Friday                   NaN  \n",
      "Saturday                 NaN  \n",
      "Sunday                   2.0  \n"
     ]
    },
    {
     "data": {
      "text/plain": [
       "<matplotlib.text.Text at 0x10dcf7bd0>"
      ]
     },
     "execution_count": 112,
     "metadata": {},
     "output_type": "execute_result"
    },
    {
     "data": {
      "text/plain": [
       "<matplotlib.figure.Figure at 0x109ebef90>"
      ]
     },
     "metadata": {},
     "output_type": "display_data"
    },
    {
     "data": {
      "image/png": "[encoded data removed]",
      "text/plain": [
       "<matplotlib.figure.Figure at 0x10b183890>"
      ]
     },
     "metadata": {},
     "output_type": "display_data"
    },
    {
     "data": {
      "image/png": "[encoded data removed]",
      "text/plain": [
       "<matplotlib.figure.Figure at 0x10dcf0590>"
      ]
     },
     "metadata": {},
     "output_type": "display_data"
    }
   ],
   "source": [
    "district_e_theft_types = pd.DataFrame(df[(df['Shorten offense'] == 'THEFT') & (df['Period'] == 'Night') & (df['District/Sector'] == 'E')].groupby(['Occurred Day', 'Offense Type'])['General Offense Number'].count().unstack('Offense Type'))\n",
    "# print(district_e_theft_types)\n",
    "\n",
    "plt.figure(19)\n",
    "district_e_theft_types = district_e_theft_types.reindex(['Monday', 'Tuesday', 'Wednesday', 'Thursday', 'Friday', 'Saturday', 'Sunday'])\n",
    "print(district_e_theft_types)\n",
    "district_e_theft_types.plot(kind='bar', stacked=False).legend(loc='center left', bbox_to_anchor=(1, 0.5))\n",
    "plt.ylabel('Number of events at night')\n",
    "plt.xlabel('Day of week')\n",
    "plt.title('Distribution of nightly theft types in District E')\n",
    "\n",
    "plt.figure(20)\n",
    "district_e_thefts_perc = district_e_theft_types.apply(lambda x: x / x.sum() * 100, axis=1)\n",
    "district_e_thefts_perc = district_e_thefts_perc.reindex(['Monday', 'Tuesday', 'Wednesday', 'Thursday', 'Friday', 'Saturday', 'Sunday'])\n",
    "# print(district_e_thefts_perc)\n",
    "district_e_thefts_perc.plot(kind='bar', stacked=False).legend(loc='center left', bbox_to_anchor=(1, 0.5))\n",
    "plt.ylabel('Percentage of theft types at night')\n",
    "plt.xlabel('Day of week')\n",
    "plt.title('Distribution of nightly theft types in District E')"
   ]
  },
  {
   "cell_type": "code",
   "execution_count": 113,
   "metadata": {
    "collapsed": false
   },
   "outputs": [
    {
     "name": "stdout",
     "output_type": "stream",
     "text": [
      "[[  2.   1.  nan   1.  nan  nan  nan]\n",
      " [  6.   1.  nan   4.   3.   1.   2.]\n",
      " [  1.   2.   1.   1.   7.  14.   7.]\n",
      " [ 12.  15.  10.  18.  42.  29.  47.]\n",
      " [ nan  nan   1.  nan  nan  nan  nan]\n",
      " [  2.  nan   2.  nan  nan  nan  nan]\n",
      " [  9.   3.   2.   4.  14.  20.  23.]\n",
      " [ nan  nan  nan   1.  nan  12.  11.]\n",
      " [ nan  nan  nan  nan  nan  nan   2.]]\n"
     ]
    },
    {
     "data": {
      "image/png": "[encoded data removed]",
      "text/plain": [
       "<matplotlib.figure.Figure at 0x10998dd90>"
      ]
     },
     "metadata": {},
     "output_type": "display_data"
    }
   ],
   "source": [
    "matr = district_e_theft_types.as_matrix().transpose()\n",
    "print(matr)\n",
    "\n",
    "plt.imshow(matr, cmap='hot_r', interpolation='nearest')\n",
    "plt.xticks([0,1,2,3,4,5,6], ['Mon', 'Tues', 'Wed', 'Thurs', 'Fri', 'Sat', 'Sun'])\n",
    "plt.yticks([0,1,2,3,4,5,6,7,8], district_e_theft_types.columns)\n",
    "cbar = plt.colorbar()\n",
    "plt.title('Nightly theft activities aggregated per day \\n(District E)')\n",
    "\n",
    "cbar.set_label('Number of nightly thefts', rotation=90, labelpad=15, fontsize=12)"
   ]
  },
  {
   "cell_type": "code",
   "execution_count": 114,
   "metadata": {
    "collapsed": false
   },
   "outputs": [
    {
     "data": {
      "image/png": "[encoded data removed]",
      "text/plain": [
       "<matplotlib.figure.Figure at 0x108cecf90>"
      ]
     },
     "metadata": {},
     "output_type": "display_data"
    }
   ],
   "source": [
    "matr_perc = district_e_thefts_perc.as_matrix().transpose()\n",
    "\n",
    "plt.subplot(1,2,1)\n",
    "plt.imshow(matr, cmap='hot_r', interpolation='nearest')\n",
    "plt.xticks([0,1,2,3,4,5,6], ['Mon', 'Tues', 'Wed', 'Thurs', 'Fri', 'Sat', 'Sun'])\n",
    "plt.yticks([0,1,2,3,4,5,6,7,8], district_e_theft_types.columns)\n",
    "cbar = plt.colorbar()\n",
    "plt.title('Nightly theft activities \\n aggregated per day (District E)')\n",
    "\n",
    "cbar.set_label('Number of nightly thefts', rotation=90, labelpad=15, fontsize=12)\n",
    "\n",
    "plt.subplot(1,2,2)\n",
    "plt.imshow(matr_perc, cmap='hot_r', interpolation='nearest')\n",
    "plt.xticks([0,1,2,3,4,5,6], ['Mon', 'Tues', 'Wed', 'Thurs', 'Fri', 'Sat', 'Sun'])\n",
    "plt.yticks([0,1,2,3,4,5,6,7,8], ['','','','','','','','',''])\n",
    "cbar = plt.colorbar()\n",
    "plt.title('Nightly theft activity distribution \\n aggregated per day (District E)')\n",
    "\n",
    "cbar.set_label('Percentage of nightly thefts', rotation=90, labelpad=15, fontsize=12)"
   ]
  },
  {
   "cell_type": "markdown",
   "metadata": {},
   "source": [
    "As seen before, the total number of thefts increases over the weekend. This trend is mainly driven by car prowls, which are by far the most numerous type of theft experienced in District E. Other types of theft also follow the same trend; theft by pick-pockets (dark blue), and other unspecified activities. Thus, the relative importance of car prowls decreases over the weekend. Interestingly, the pattern is somewhat changed here from those we have seen before, as this different theft types ratio is true on Saturdays, Sundays and Mondays (and not Fridays)."
   ]
  },
  {
   "cell_type": "code",
   "execution_count": 115,
   "metadata": {
    "collapsed": false
   },
   "outputs": [
    {
     "data": {
      "text/plain": [
       "Index([u'RMS CDW ID', u'General Offense Number', u'Offense Code',\n",
       "       u'Offense Code Extension', u'Offense Type', u'Summary Offense Code',\n",
       "       u'Summarized Offense Description', u'Date Reported',\n",
       "       u'Occurred Date or Date Range Start', u'Occurred Date Range End',\n",
       "       u'Hundred Block Location', u'District/Sector', u'Zone/Beat',\n",
       "       u'Census Tract 2000', u'Longitude', u'Latitude', u'Location', u'Month',\n",
       "       u'Year', u'Datetime Occurred', u'Occurred Day', u'Occurred Hour',\n",
       "       u'Period', u'Shorten offense'],\n",
       "      dtype='object')"
      ]
     },
     "execution_count": 115,
     "metadata": {},
     "output_type": "execute_result"
    }
   ],
   "source": [
    "df.columns"
   ]
  },
  {
   "cell_type": "code",
   "execution_count": 116,
   "metadata": {
    "collapsed": false
   },
   "outputs": [
    {
     "data": {
      "text/plain": [
       "<matplotlib.legend.Legend at 0x10d54d910>"
      ]
     },
     "execution_count": 116,
     "metadata": {},
     "output_type": "execute_result"
    },
    {
     "data": {
      "text/plain": [
       "<matplotlib.figure.Figure at 0x10bd4dc10>"
      ]
     },
     "metadata": {},
     "output_type": "display_data"
    },
    {
     "data": {
      "image/png": "[encoded data removed]",
      "text/plain": [
       "<matplotlib.figure.Figure at 0x10ddc9950>"
      ]
     },
     "metadata": {},
     "output_type": "display_data"
    }
   ],
   "source": [
    "# from dateutil import parser\n",
    "df['Occurred Date Only'] = [parser.parse(str(x)).date() for x in df['Datetime Occurred']]\n",
    "nightly_car_prowl_district_e = pd.DataFrame(df[(df['Offense Type'] == 'THEFT-CARPROWL') & (df['Period'] == 'Night') & (df['District/Sector'] == 'E')].groupby(['Occurred Date Only'])['General Offense Number'].count())\n",
    "nightly_car_prowl_district_e.head()\n",
    "nightly_thefts_district_e = pd.DataFrame(df[(df['Shorten offense'] == 'THEFT') & (df['Period'] == 'Night') & (df['District/Sector'] == 'E')].groupby(['Occurred Date Only', 'Offense Type'])['General Offense Number'].count().unstack('Offense Type'))\n",
    "# print(nightly_thefts_district_e)\n",
    "# nightly_thefts_district_e.to_csv('night_thefts_district_e.csv')\n",
    "\n",
    "plt.figure(21)\n",
    "# nightly_car_prowl_district_e.plot()\n",
    "nightly_thefts_district_e.plot()\n",
    "plt.legend(loc='upper left')\n"
   ]
  }
 ],
 "metadata": {
  "kernelspec": {
   "display_name": "Python 2",
   "language": "python",
   "name": "python2"
  },
  "language_info": {
   "codemirror_mode": {
    "name": "ipython",
    "version": 2
   },
   "file_extension": ".py",
   "mimetype": "text/x-python",
   "name": "python",
   "nbconvert_exporter": "python",
   "pygments_lexer": "ipython2",
   "version": "2.7.5"
  },
  "widgets": {
   "state": {
    "0dbe98557dc34e8abfc0d0e537002f84": {
     "views": [
      {
       "cell_index": 55
      }
     ]
    },
    "aa69f0217de94af0b99ea16267dd3dba": {
     "views": [
      {
       "cell_index": 55
      }
     ]
    },
    "f8da20ea8dd94e65b60887d5b82bd403": {
     "views": [
      {
       "cell_index": 55
      }
     ]
    }
   },
   "version": "1.2.0"
  }
 },
 "nbformat": 4,
 "nbformat_minor": 1
}
